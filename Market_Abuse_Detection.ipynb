{
 "cells": [
  {
   "cell_type": "markdown",
   "metadata": {},
   "source": [
    "# Market Abuse Detection"
   ]
  },
  {
   "cell_type": "markdown",
   "metadata": {},
   "source": [
    "## Objective\n",
    "\n",
    "In this task we need to retrieve stock data for Amazon and analyse some client \n",
    "data in order to find some suspicious behaviours."
   ]
  },
  {
   "cell_type": "markdown",
   "metadata": {},
   "source": [
    "## Importing required libraries"
   ]
  },
  {
   "cell_type": "code",
   "execution_count": 1,
   "metadata": {},
   "outputs": [
    {
     "name": "stdout",
     "output_type": "stream",
     "text": [
      "Numpy version : Numpy 1.18.5\n",
      "Pandas version : Pandas 1.0.5\n",
      "Matplotlib version : Matplotlib 3.2.2\n",
      "Seaborn version : Seaborn 0.10.1\n"
     ]
    }
   ],
   "source": [
    "import numpy as np\n",
    "import pandas as pd\n",
    "import matplotlib\n",
    "\n",
    "import seaborn as sns\n",
    "import matplotlib.pyplot as plt\n",
    "\n",
    "# For reading stock data from yahoo\n",
    "import pandas_datareader.data as pdr\n",
    "\n",
    "# For time stamps\n",
    "from datetime import datetime\n",
    "\n",
    "# Print versions of libraries\n",
    "print(f\"Numpy version : Numpy {np.__version__}\")\n",
    "print(f\"Pandas version : Pandas {pd.__version__}\")\n",
    "print(f\"Matplotlib version : Matplotlib {matplotlib.__version__}\")\n",
    "print(f\"Seaborn version : Seaborn {sns.__version__}\")\n",
    "\n",
    "# Magic Functions for In-Notebook Display\n",
    "%matplotlib inline\n",
    "\n",
    "# Setting seabon style\n",
    "sns.set(style='darkgrid', palette='colorblind')\n",
    "\n",
    "# Supressing the warning messages\n",
    "import warnings\n",
    "warnings.filterwarnings('ignore')"
   ]
  },
  {
   "cell_type": "markdown",
   "metadata": {},
   "source": [
    "# Stock Dataset"
   ]
  },
  {
   "cell_type": "markdown",
   "metadata": {},
   "source": [
    "## Import Stock Dataset\n",
    "Downloading Amazon stock data from Yahoo for the months of February and March 2020"
   ]
  },
  {
   "cell_type": "code",
   "execution_count": 2,
   "metadata": {},
   "outputs": [],
   "source": [
    "def get_stock_data(filename='stock_data.csv',stock = \"AMZN\", start_date = '2020-02-01',end_date = '2020-03-31',\n",
    "                   force_download=False):\n",
    "    \"\"\"\n",
    "    Download and cache the stock data\n",
    "    \n",
    "    Parameters\n",
    "    ----------\n",
    "    filename : string (optional)\n",
    "        location to save the data\n",
    "    stock : string (optional)\n",
    "        company name of which stock data want to download from yahoo api.\n",
    "    start_date : string (optional)\n",
    "        date from where stock data should download\n",
    "    end_date : string (optional)\n",
    "        date till where stock data should download\n",
    "    force_download : bool (optional)\n",
    "        if True, force re-download of data from Yahoo API else read from local\n",
    "        \n",
    "    Returns\n",
    "    -------\n",
    "    data : pandas.DataFrame\n",
    "        The company Stock data\n",
    "    \"\"\"\n",
    "    \n",
    "    if force_download:\n",
    "        # Grabing yahoo finance data and setting as a dataframe\n",
    "        stock_data = pdr.DataReader(stock, 'yahoo', start_date, end_date)\n",
    "        # Save the stock data in form of .csv to local \n",
    "        stock_data.to_csv(filename)\n",
    "        \n",
    "    # force_download is false, then read data from local\n",
    "    stock_data = pd.read_csv(filename, index_col='Date')\n",
    "\n",
    "    try:\n",
    "        stock_data.index = pd.to_datetime(stock_data.index, format='%Y-%m-%d')\n",
    "    except TypeError:\n",
    "        stock_data.index = pd.to_datetime(stock_data.index)\n",
    "\n",
    "    return stock_data"
   ]
  },
  {
   "cell_type": "code",
   "execution_count": 3,
   "metadata": {},
   "outputs": [
    {
     "name": "stdout",
     "output_type": "stream",
     "text": [
      "\n",
      "    Download and cache the stock data\n",
      "    \n",
      "    Parameters\n",
      "    ----------\n",
      "    filename : string (optional)\n",
      "        location to save the data\n",
      "    stock : string (optional)\n",
      "        company name of which stock data want to download from yahoo api.\n",
      "    start_date : string (optional)\n",
      "        date from where stock data should download\n",
      "    end_date : string (optional)\n",
      "        date till where stock data should download\n",
      "    force_download : bool (optional)\n",
      "        if True, force re-download of data from Yahoo API else read from local\n",
      "        \n",
      "    Returns\n",
      "    -------\n",
      "    data : pandas.DataFrame\n",
      "        The company Stock data\n",
      "    \n"
     ]
    }
   ],
   "source": [
    "# Print docstrings of method \n",
    "print(get_stock_data.__doc__)"
   ]
  },
  {
   "cell_type": "code",
   "execution_count": 4,
   "metadata": {},
   "outputs": [],
   "source": [
    "# get_stock_data?"
   ]
  },
  {
   "cell_type": "code",
   "execution_count": 5,
   "metadata": {},
   "outputs": [],
   "source": [
    "# collect data for Amazon from 2020-02-01 to 2020-03-31\n",
    "stock_data = get_stock_data(filename='stock_data.csv',stock = \"AMZN\", \n",
    "                            start_date = '2020-02-01',end_date = '2020-03-31',force_download=False)"
   ]
  },
  {
   "cell_type": "code",
   "execution_count": 6,
   "metadata": {},
   "outputs": [
    {
     "data": {
      "text/html": [
       "<div>\n",
       "<style scoped>\n",
       "    .dataframe tbody tr th:only-of-type {\n",
       "        vertical-align: middle;\n",
       "    }\n",
       "\n",
       "    .dataframe tbody tr th {\n",
       "        vertical-align: top;\n",
       "    }\n",
       "\n",
       "    .dataframe thead th {\n",
       "        text-align: right;\n",
       "    }\n",
       "</style>\n",
       "<table border=\"1\" class=\"dataframe\">\n",
       "  <thead>\n",
       "    <tr style=\"text-align: right;\">\n",
       "      <th></th>\n",
       "      <th>High</th>\n",
       "      <th>Low</th>\n",
       "      <th>Open</th>\n",
       "      <th>Close</th>\n",
       "      <th>Volume</th>\n",
       "      <th>Adj Close</th>\n",
       "    </tr>\n",
       "    <tr>\n",
       "      <th>Date</th>\n",
       "      <th></th>\n",
       "      <th></th>\n",
       "      <th></th>\n",
       "      <th></th>\n",
       "      <th></th>\n",
       "      <th></th>\n",
       "    </tr>\n",
       "  </thead>\n",
       "  <tbody>\n",
       "    <tr>\n",
       "      <th>2020-01-31</th>\n",
       "      <td>2055.719971</td>\n",
       "      <td>2002.270020</td>\n",
       "      <td>2051.469971</td>\n",
       "      <td>2008.719971</td>\n",
       "      <td>15567300</td>\n",
       "      <td>2008.719971</td>\n",
       "    </tr>\n",
       "    <tr>\n",
       "      <th>2020-02-03</th>\n",
       "      <td>2048.500000</td>\n",
       "      <td>2000.250000</td>\n",
       "      <td>2010.599976</td>\n",
       "      <td>2004.199951</td>\n",
       "      <td>5899100</td>\n",
       "      <td>2004.199951</td>\n",
       "    </tr>\n",
       "    <tr>\n",
       "      <th>2020-02-04</th>\n",
       "      <td>2059.800049</td>\n",
       "      <td>2015.369995</td>\n",
       "      <td>2029.880005</td>\n",
       "      <td>2049.669922</td>\n",
       "      <td>5289300</td>\n",
       "      <td>2049.669922</td>\n",
       "    </tr>\n",
       "    <tr>\n",
       "      <th>2020-02-05</th>\n",
       "      <td>2071.020020</td>\n",
       "      <td>2032.000000</td>\n",
       "      <td>2071.020020</td>\n",
       "      <td>2039.869995</td>\n",
       "      <td>4376200</td>\n",
       "      <td>2039.869995</td>\n",
       "    </tr>\n",
       "    <tr>\n",
       "      <th>2020-02-06</th>\n",
       "      <td>2056.300049</td>\n",
       "      <td>2024.800049</td>\n",
       "      <td>2041.020020</td>\n",
       "      <td>2050.229980</td>\n",
       "      <td>3183000</td>\n",
       "      <td>2050.229980</td>\n",
       "    </tr>\n",
       "  </tbody>\n",
       "</table>\n",
       "</div>"
      ],
      "text/plain": [
       "                   High          Low         Open        Close    Volume  \\\n",
       "Date                                                                       \n",
       "2020-01-31  2055.719971  2002.270020  2051.469971  2008.719971  15567300   \n",
       "2020-02-03  2048.500000  2000.250000  2010.599976  2004.199951   5899100   \n",
       "2020-02-04  2059.800049  2015.369995  2029.880005  2049.669922   5289300   \n",
       "2020-02-05  2071.020020  2032.000000  2071.020020  2039.869995   4376200   \n",
       "2020-02-06  2056.300049  2024.800049  2041.020020  2050.229980   3183000   \n",
       "\n",
       "              Adj Close  \n",
       "Date                     \n",
       "2020-01-31  2008.719971  \n",
       "2020-02-03  2004.199951  \n",
       "2020-02-04  2049.669922  \n",
       "2020-02-05  2039.869995  \n",
       "2020-02-06  2050.229980  "
      ]
     },
     "execution_count": 6,
     "metadata": {},
     "output_type": "execute_result"
    }
   ],
   "source": [
    "# Looking at sample rows in the data\n",
    "stock_data.head()"
   ]
  },
  {
   "cell_type": "code",
   "execution_count": 7,
   "metadata": {},
   "outputs": [
    {
     "data": {
      "text/plain": [
       "dtype('<M8[ns]')"
      ]
     },
     "execution_count": 7,
     "metadata": {},
     "output_type": "execute_result"
    }
   ],
   "source": [
    "# checking datatype of stock dataset index\n",
    "stock_data.index.dtype"
   ]
  },
  {
   "cell_type": "code",
   "execution_count": 8,
   "metadata": {},
   "outputs": [
    {
     "data": {
      "text/plain": [
       "Index(['High', 'Low', 'Open', 'Close', 'Volume', 'Adj Close'], dtype='object')"
      ]
     },
     "execution_count": 8,
     "metadata": {},
     "output_type": "execute_result"
    }
   ],
   "source": [
    "stock_data.columns"
   ]
  },
  {
   "cell_type": "markdown",
   "metadata": {},
   "source": [
    "### Move date from index to  columns\n",
    "Pandas dataframes have an index that is used for grouping and fast lookups. The index is not considered one of the columns. To move the dates from the index to the columns, we can use reset_index(), which will make Date a column and make the index just a sequence of numbers counting up from 0."
   ]
  },
  {
   "cell_type": "code",
   "execution_count": 9,
   "metadata": {},
   "outputs": [],
   "source": [
    "stock_data.reset_index(inplace=True)"
   ]
  },
  {
   "cell_type": "markdown",
   "metadata": {},
   "source": [
    "## Exploratory Data Analysis\n",
    "Once the data is read into python, we need to explore/clean/filter it before processing it"
   ]
  },
  {
   "cell_type": "markdown",
   "metadata": {},
   "source": [
    "### Checking concise summary of dataset\n",
    "It is also a good practice to know the features and their corresponding data types, along with finding whether they contain null values or not."
   ]
  },
  {
   "cell_type": "code",
   "execution_count": 10,
   "metadata": {},
   "outputs": [
    {
     "name": "stdout",
     "output_type": "stream",
     "text": [
      "<class 'pandas.core.frame.DataFrame'>\n",
      "RangeIndex: 42 entries, 0 to 41\n",
      "Data columns (total 7 columns):\n",
      " #   Column     Non-Null Count  Dtype         \n",
      "---  ------     --------------  -----         \n",
      " 0   Date       42 non-null     datetime64[ns]\n",
      " 1   High       42 non-null     float64       \n",
      " 2   Low        42 non-null     float64       \n",
      " 3   Open       42 non-null     float64       \n",
      " 4   Close      42 non-null     float64       \n",
      " 5   Volume     42 non-null     int64         \n",
      " 6   Adj Close  42 non-null     float64       \n",
      "dtypes: datetime64[ns](1), float64(5), int64(1)\n",
      "memory usage: 2.4 KB\n"
     ]
    }
   ],
   "source": [
    "# Observing the summarized information of data\n",
    "# Data types, Missing values based on number of non-null values Vs total rows etc.\n",
    "stock_data.info()"
   ]
  },
  {
   "cell_type": "markdown",
   "metadata": {},
   "source": [
    "**Highlights**\n",
    "\n",
    "* Dataset contains details of 42 days of stock price for Amazon in 7 features.\n",
    "* There is no missing data in dataset, every column contain exactly 42 rows.\n",
    "* Data type for 'date' is datetime64 which is required to compare the dates.\n",
    "* Memory Usage: 2.4 KB"
   ]
  },
  {
   "cell_type": "markdown",
   "metadata": {},
   "source": [
    "### Delete duplicate data"
   ]
  },
  {
   "cell_type": "code",
   "execution_count": 11,
   "metadata": {},
   "outputs": [
    {
     "name": "stdout",
     "output_type": "stream",
     "text": [
      "Shape before deleting duplicate values: (42, 7)\n",
      "Shape After deleting duplicate values: (42, 7)\n"
     ]
    }
   ],
   "source": [
    "# Checking duplicate data\n",
    "print('Shape before deleting duplicate values:', stock_data.shape)\n",
    "\n",
    "# Removing duplicate rows if any\n",
    "stock_data = stock_data.drop_duplicates()\n",
    "print('Shape After deleting duplicate values:', stock_data.shape)"
   ]
  },
  {
   "cell_type": "markdown",
   "metadata": {},
   "source": [
    "### Generate descriptive statistics\n",
    "The describe() function generates descriptive statistics that summarize the central tendency, dispersion and shape of a dataset's distribution, excluding NaN values."
   ]
  },
  {
   "cell_type": "code",
   "execution_count": 12,
   "metadata": {},
   "outputs": [
    {
     "data": {
      "text/html": [
       "<div>\n",
       "<style scoped>\n",
       "    .dataframe tbody tr th:only-of-type {\n",
       "        vertical-align: middle;\n",
       "    }\n",
       "\n",
       "    .dataframe tbody tr th {\n",
       "        vertical-align: top;\n",
       "    }\n",
       "\n",
       "    .dataframe thead th {\n",
       "        text-align: right;\n",
       "    }\n",
       "</style>\n",
       "<table border=\"1\" class=\"dataframe\">\n",
       "  <thead>\n",
       "    <tr style=\"text-align: right;\">\n",
       "      <th></th>\n",
       "      <th>High</th>\n",
       "      <th>Low</th>\n",
       "      <th>Open</th>\n",
       "      <th>Close</th>\n",
       "      <th>Volume</th>\n",
       "      <th>Adj Close</th>\n",
       "    </tr>\n",
       "  </thead>\n",
       "  <tbody>\n",
       "    <tr>\n",
       "      <th>count</th>\n",
       "      <td>42.000000</td>\n",
       "      <td>42.000000</td>\n",
       "      <td>42.000000</td>\n",
       "      <td>42.000000</td>\n",
       "      <td>4.200000e+01</td>\n",
       "      <td>42.000000</td>\n",
       "    </tr>\n",
       "    <tr>\n",
       "      <th>mean</th>\n",
       "      <td>1997.033587</td>\n",
       "      <td>1928.853338</td>\n",
       "      <td>1959.332374</td>\n",
       "      <td>1963.259039</td>\n",
       "      <td>6.473969e+06</td>\n",
       "      <td>1963.259039</td>\n",
       "    </tr>\n",
       "    <tr>\n",
       "      <th>std</th>\n",
       "      <td>119.026586</td>\n",
       "      <td>143.603719</td>\n",
       "      <td>136.401280</td>\n",
       "      <td>128.808825</td>\n",
       "      <td>2.727553e+06</td>\n",
       "      <td>128.808825</td>\n",
       "    </tr>\n",
       "    <tr>\n",
       "      <th>min</th>\n",
       "      <td>1759.449951</td>\n",
       "      <td>1626.030029</td>\n",
       "      <td>1641.510010</td>\n",
       "      <td>1676.609985</td>\n",
       "      <td>2.561200e+06</td>\n",
       "      <td>1676.609985</td>\n",
       "    </tr>\n",
       "    <tr>\n",
       "      <th>25%</th>\n",
       "      <td>1924.497528</td>\n",
       "      <td>1823.709991</td>\n",
       "      <td>1871.910004</td>\n",
       "      <td>1884.685028</td>\n",
       "      <td>4.843725e+06</td>\n",
       "      <td>1884.685028</td>\n",
       "    </tr>\n",
       "    <tr>\n",
       "      <th>50%</th>\n",
       "      <td>1976.500000</td>\n",
       "      <td>1911.169983</td>\n",
       "      <td>1949.034973</td>\n",
       "      <td>1954.719971</td>\n",
       "      <td>6.012600e+06</td>\n",
       "      <td>1954.719971</td>\n",
       "    </tr>\n",
       "    <tr>\n",
       "      <th>75%</th>\n",
       "      <td>2068.215027</td>\n",
       "      <td>2030.200012</td>\n",
       "      <td>2049.099976</td>\n",
       "      <td>2050.089966</td>\n",
       "      <td>7.812025e+06</td>\n",
       "      <td>2050.089966</td>\n",
       "    </tr>\n",
       "    <tr>\n",
       "      <th>max</th>\n",
       "      <td>2185.949951</td>\n",
       "      <td>2161.120117</td>\n",
       "      <td>2173.070068</td>\n",
       "      <td>2170.219971</td>\n",
       "      <td>1.556730e+07</td>\n",
       "      <td>2170.219971</td>\n",
       "    </tr>\n",
       "  </tbody>\n",
       "</table>\n",
       "</div>"
      ],
      "text/plain": [
       "              High          Low         Open        Close        Volume  \\\n",
       "count    42.000000    42.000000    42.000000    42.000000  4.200000e+01   \n",
       "mean   1997.033587  1928.853338  1959.332374  1963.259039  6.473969e+06   \n",
       "std     119.026586   143.603719   136.401280   128.808825  2.727553e+06   \n",
       "min    1759.449951  1626.030029  1641.510010  1676.609985  2.561200e+06   \n",
       "25%    1924.497528  1823.709991  1871.910004  1884.685028  4.843725e+06   \n",
       "50%    1976.500000  1911.169983  1949.034973  1954.719971  6.012600e+06   \n",
       "75%    2068.215027  2030.200012  2049.099976  2050.089966  7.812025e+06   \n",
       "max    2185.949951  2161.120117  2173.070068  2170.219971  1.556730e+07   \n",
       "\n",
       "         Adj Close  \n",
       "count    42.000000  \n",
       "mean   1963.259039  \n",
       "std     128.808825  \n",
       "min    1676.609985  \n",
       "25%    1884.685028  \n",
       "50%    1954.719971  \n",
       "75%    2050.089966  \n",
       "max    2170.219971  "
      ]
     },
     "execution_count": 12,
     "metadata": {},
     "output_type": "execute_result"
    }
   ],
   "source": [
    "# Looking at the descriptive statistics of the data\n",
    "# stock_data.describe(include='all')\n",
    "stock_data.describe()"
   ]
  },
  {
   "cell_type": "code",
   "execution_count": 13,
   "metadata": {},
   "outputs": [
    {
     "data": {
      "text/plain": [
       "Date         42\n",
       "High         42\n",
       "Low          42\n",
       "Open         42\n",
       "Close        42\n",
       "Volume       42\n",
       "Adj Close    42\n",
       "dtype: int64"
      ]
     },
     "execution_count": 13,
     "metadata": {},
     "output_type": "execute_result"
    }
   ],
   "source": [
    "# Finging unique values for each column\n",
    "# TO understand which column is categorical and which one is Continuous\n",
    "# Typically if the numer of unique values are < 20 then the variable is likely to be a category otherwise continuous\n",
    "stock_data.nunique()"
   ]
  },
  {
   "cell_type": "code",
   "execution_count": 14,
   "metadata": {},
   "outputs": [
    {
     "name": "stdout",
     "output_type": "stream",
     "text": [
      "<class 'pandas.core.frame.DataFrame'>\n",
      "Int64Index: 42 entries, 0 to 41\n",
      "Data columns (total 7 columns):\n",
      " #   Column     Non-Null Count  Dtype         \n",
      "---  ------     --------------  -----         \n",
      " 0   Date       42 non-null     datetime64[ns]\n",
      " 1   High       42 non-null     float64       \n",
      " 2   Low        42 non-null     float64       \n",
      " 3   Open       42 non-null     float64       \n",
      " 4   Close      42 non-null     float64       \n",
      " 5   Volume     42 non-null     int64         \n",
      " 6   Adj Close  42 non-null     float64       \n",
      "dtypes: datetime64[ns](1), float64(5), int64(1)\n",
      "memory usage: 2.6 KB\n"
     ]
    }
   ],
   "source": [
    "# Reset the index of stock dataset\n",
    "stock_data.reset_index(drop=True)\n",
    "\n",
    "# Finally check the summary of stock dataset\n",
    "stock_data.info()"
   ]
  },
  {
   "cell_type": "markdown",
   "metadata": {},
   "source": [
    "## Saving final preprocessed stock data"
   ]
  },
  {
   "cell_type": "code",
   "execution_count": 15,
   "metadata": {},
   "outputs": [
    {
     "data": {
      "text/html": [
       "<div>\n",
       "<style scoped>\n",
       "    .dataframe tbody tr th:only-of-type {\n",
       "        vertical-align: middle;\n",
       "    }\n",
       "\n",
       "    .dataframe tbody tr th {\n",
       "        vertical-align: top;\n",
       "    }\n",
       "\n",
       "    .dataframe thead th {\n",
       "        text-align: right;\n",
       "    }\n",
       "</style>\n",
       "<table border=\"1\" class=\"dataframe\">\n",
       "  <thead>\n",
       "    <tr style=\"text-align: right;\">\n",
       "      <th></th>\n",
       "      <th>Date</th>\n",
       "      <th>High</th>\n",
       "      <th>Low</th>\n",
       "      <th>Open</th>\n",
       "      <th>Close</th>\n",
       "      <th>Volume</th>\n",
       "      <th>Adj Close</th>\n",
       "    </tr>\n",
       "  </thead>\n",
       "  <tbody>\n",
       "    <tr>\n",
       "      <th>0</th>\n",
       "      <td>2020-01-31</td>\n",
       "      <td>2055.719971</td>\n",
       "      <td>2002.270020</td>\n",
       "      <td>2051.469971</td>\n",
       "      <td>2008.719971</td>\n",
       "      <td>15567300</td>\n",
       "      <td>2008.719971</td>\n",
       "    </tr>\n",
       "    <tr>\n",
       "      <th>1</th>\n",
       "      <td>2020-02-03</td>\n",
       "      <td>2048.500000</td>\n",
       "      <td>2000.250000</td>\n",
       "      <td>2010.599976</td>\n",
       "      <td>2004.199951</td>\n",
       "      <td>5899100</td>\n",
       "      <td>2004.199951</td>\n",
       "    </tr>\n",
       "    <tr>\n",
       "      <th>2</th>\n",
       "      <td>2020-02-04</td>\n",
       "      <td>2059.800049</td>\n",
       "      <td>2015.369995</td>\n",
       "      <td>2029.880005</td>\n",
       "      <td>2049.669922</td>\n",
       "      <td>5289300</td>\n",
       "      <td>2049.669922</td>\n",
       "    </tr>\n",
       "    <tr>\n",
       "      <th>3</th>\n",
       "      <td>2020-02-05</td>\n",
       "      <td>2071.020020</td>\n",
       "      <td>2032.000000</td>\n",
       "      <td>2071.020020</td>\n",
       "      <td>2039.869995</td>\n",
       "      <td>4376200</td>\n",
       "      <td>2039.869995</td>\n",
       "    </tr>\n",
       "    <tr>\n",
       "      <th>4</th>\n",
       "      <td>2020-02-06</td>\n",
       "      <td>2056.300049</td>\n",
       "      <td>2024.800049</td>\n",
       "      <td>2041.020020</td>\n",
       "      <td>2050.229980</td>\n",
       "      <td>3183000</td>\n",
       "      <td>2050.229980</td>\n",
       "    </tr>\n",
       "  </tbody>\n",
       "</table>\n",
       "</div>"
      ],
      "text/plain": [
       "        Date         High          Low         Open        Close    Volume  \\\n",
       "0 2020-01-31  2055.719971  2002.270020  2051.469971  2008.719971  15567300   \n",
       "1 2020-02-03  2048.500000  2000.250000  2010.599976  2004.199951   5899100   \n",
       "2 2020-02-04  2059.800049  2015.369995  2029.880005  2049.669922   5289300   \n",
       "3 2020-02-05  2071.020020  2032.000000  2071.020020  2039.869995   4376200   \n",
       "4 2020-02-06  2056.300049  2024.800049  2041.020020  2050.229980   3183000   \n",
       "\n",
       "     Adj Close  \n",
       "0  2008.719971  \n",
       "1  2004.199951  \n",
       "2  2049.669922  \n",
       "3  2039.869995  \n",
       "4  2050.229980  "
      ]
     },
     "execution_count": 15,
     "metadata": {},
     "output_type": "execute_result"
    }
   ],
   "source": [
    "SelectedColumns = ['Date','High', 'Low', 'Open', 'Close', 'Volume', 'Adj Close']\n",
    "\n",
    "# Selecting final columns\n",
    "StockDataClean=stock_data[SelectedColumns]\n",
    "StockDataClean.head()"
   ]
  },
  {
   "cell_type": "code",
   "execution_count": 16,
   "metadata": {},
   "outputs": [],
   "source": [
    "# Saving this final data for reference during deployment\n",
    "StockDataClean.to_pickle('StockDataClean.pkl')"
   ]
  },
  {
   "cell_type": "markdown",
   "metadata": {},
   "source": [
    "### Trend of closing price in Feb & Mar"
   ]
  },
  {
   "cell_type": "code",
   "execution_count": 17,
   "metadata": {},
   "outputs": [
    {
     "data": {
      "image/png": "[encoded data removed]",
      "text/plain": [
       "<Figure size 720x432 with 1 Axes>"
      ]
     },
     "metadata": {},
     "output_type": "display_data"
    }
   ],
   "source": [
    "# Let's see a historical view of the Adj closing price\n",
    "\n",
    "plt.figure(figsize=(10,6))\n",
    "plt.plot(stock_data['Date'],stock_data['Adj Close'],color='b', linewidth=1.5,marker='^',markersize=8,\n",
    "         linestyle='-',markerfacecolor='red')\n",
    "plt.title(\"Daywise closing price trend\")\n",
    "plt.xticks(rotation=45)\n",
    "plt.ylabel('Adj Close')\n",
    "plt.xlabel(None)\n",
    "plt.show()"
   ]
  },
  {
   "cell_type": "markdown",
   "metadata": {},
   "source": [
    "Broadly speaking, February month is better than March month for stock sellers."
   ]
  },
  {
   "cell_type": "markdown",
   "metadata": {},
   "source": [
    "### Volume of stock being traded each day"
   ]
  },
  {
   "cell_type": "code",
   "execution_count": 18,
   "metadata": {},
   "outputs": [
    {
     "data": {
      "image/png": "[encoded data removed]",
      "text/plain": [
       "<Figure size 720x432 with 1 Axes>"
      ]
     },
     "metadata": {},
     "output_type": "display_data"
    }
   ],
   "source": [
    "# Now let's plot the total volume of stock being traded each day\n",
    "\n",
    "plt.figure(figsize=(10,6))\n",
    "plt.plot(stock_data['Date'],stock_data['Volume'],color='b', linewidth=1.5,marker='^',markersize=8,\n",
    "         linestyle='-',markerfacecolor='red')\n",
    "plt.title(\"Daywise volume trend\")\n",
    "plt.xticks(rotation=45)\n",
    "plt.ylabel('Volume')\n",
    "plt.xlabel('Date')\n",
    "plt.show()"
   ]
  },
  {
   "cell_type": "markdown",
   "metadata": {},
   "source": [
    "# Traders Data"
   ]
  },
  {
   "cell_type": "markdown",
   "metadata": {},
   "source": [
    "## Load the traders data from csv file"
   ]
  },
  {
   "cell_type": "code",
   "execution_count": 19,
   "metadata": {},
   "outputs": [
    {
     "data": {
      "text/html": [
       "<div>\n",
       "<style scoped>\n",
       "    .dataframe tbody tr th:only-of-type {\n",
       "        vertical-align: middle;\n",
       "    }\n",
       "\n",
       "    .dataframe tbody tr th {\n",
       "        vertical-align: top;\n",
       "    }\n",
       "\n",
       "    .dataframe thead th {\n",
       "        text-align: right;\n",
       "    }\n",
       "</style>\n",
       "<table border=\"1\" class=\"dataframe\">\n",
       "  <thead>\n",
       "    <tr style=\"text-align: right;\">\n",
       "      <th></th>\n",
       "      <th>countryCode</th>\n",
       "      <th>firstName</th>\n",
       "      <th>lastName</th>\n",
       "      <th>traderId</th>\n",
       "      <th>stockSymbol</th>\n",
       "      <th>stockName</th>\n",
       "      <th>tradeId</th>\n",
       "      <th>price</th>\n",
       "      <th>volume</th>\n",
       "      <th>tradeDatetime</th>\n",
       "    </tr>\n",
       "  </thead>\n",
       "  <tbody>\n",
       "    <tr>\n",
       "      <th>0</th>\n",
       "      <td>TV</td>\n",
       "      <td>Vanessa</td>\n",
       "      <td>Green</td>\n",
       "      <td>MUVGtYHdeMdauAxzEJvt</td>\n",
       "      <td>FB</td>\n",
       "      <td>Facebook</td>\n",
       "      <td>NaN</td>\n",
       "      <td>1701.76000</td>\n",
       "      <td>58.0</td>\n",
       "      <td>2020-04-03 07:03:32</td>\n",
       "    </tr>\n",
       "    <tr>\n",
       "      <th>1</th>\n",
       "      <td>NaN</td>\n",
       "      <td>NaN</td>\n",
       "      <td>NaN</td>\n",
       "      <td>NaN</td>\n",
       "      <td>FB</td>\n",
       "      <td>Facebook</td>\n",
       "      <td>P5-3756422C</td>\n",
       "      <td>NaN</td>\n",
       "      <td>98.0</td>\n",
       "      <td>2020-01-13 08:29:53</td>\n",
       "    </tr>\n",
       "    <tr>\n",
       "      <th>2</th>\n",
       "      <td>UZ</td>\n",
       "      <td>Brandi</td>\n",
       "      <td>Robbins</td>\n",
       "      <td>JTzVqzzIkFlrYUQbhnOR</td>\n",
       "      <td>AMZN</td>\n",
       "      <td>Amazon</td>\n",
       "      <td>X0-7401234c</td>\n",
       "      <td>1857.63056</td>\n",
       "      <td>NaN</td>\n",
       "      <td>2020-07-16 07:18:39</td>\n",
       "    </tr>\n",
       "    <tr>\n",
       "      <th>3</th>\n",
       "      <td>BT</td>\n",
       "      <td>Allison</td>\n",
       "      <td>Davis</td>\n",
       "      <td>TzqyQTQjZGeLZuJqlLaQ</td>\n",
       "      <td>AMZN</td>\n",
       "      <td>Amazon</td>\n",
       "      <td>K3-3189326K</td>\n",
       "      <td>2078.44030</td>\n",
       "      <td>32.0</td>\n",
       "      <td>2020-07-07 13:59:03</td>\n",
       "    </tr>\n",
       "    <tr>\n",
       "      <th>4</th>\n",
       "      <td>SZ</td>\n",
       "      <td>Blake</td>\n",
       "      <td>Martin</td>\n",
       "      <td>WVcMKILUHtBkEahrPLrG</td>\n",
       "      <td>FB</td>\n",
       "      <td>Facebook</td>\n",
       "      <td>U4-1266883G</td>\n",
       "      <td>1809.60000</td>\n",
       "      <td>212.0</td>\n",
       "      <td>2020-08-01 02:57:54</td>\n",
       "    </tr>\n",
       "  </tbody>\n",
       "</table>\n",
       "</div>"
      ],
      "text/plain": [
       "  countryCode firstName lastName              traderId stockSymbol stockName  \\\n",
       "0          TV   Vanessa    Green  MUVGtYHdeMdauAxzEJvt          FB  Facebook   \n",
       "1         NaN       NaN      NaN                   NaN          FB  Facebook   \n",
       "2          UZ    Brandi  Robbins  JTzVqzzIkFlrYUQbhnOR        AMZN    Amazon   \n",
       "3          BT   Allison    Davis  TzqyQTQjZGeLZuJqlLaQ        AMZN    Amazon   \n",
       "4          SZ     Blake   Martin  WVcMKILUHtBkEahrPLrG          FB  Facebook   \n",
       "\n",
       "       tradeId       price  volume        tradeDatetime  \n",
       "0          NaN  1701.76000    58.0  2020-04-03 07:03:32  \n",
       "1  P5-3756422C         NaN    98.0  2020-01-13 08:29:53  \n",
       "2  X0-7401234c  1857.63056     NaN  2020-07-16 07:18:39  \n",
       "3  K3-3189326K  2078.44030    32.0  2020-07-07 13:59:03  \n",
       "4  U4-1266883G  1809.60000   212.0  2020-08-01 02:57:54  "
      ]
     },
     "execution_count": 19,
     "metadata": {},
     "output_type": "execute_result"
    }
   ],
   "source": [
    "traders_data = pd.read_csv('traders_data.csv', encoding='latin')\n",
    "\n",
    "# Looking at sample rows in the data\n",
    "traders_data.head()"
   ]
  },
  {
   "cell_type": "markdown",
   "metadata": {},
   "source": [
    "### Delete duplicate data"
   ]
  },
  {
   "cell_type": "code",
   "execution_count": 20,
   "metadata": {},
   "outputs": [
    {
     "name": "stdout",
     "output_type": "stream",
     "text": [
      "Shape before deleting duplicate values: (1000, 10)\n",
      "Shape After deleting duplicate values: (1000, 10)\n"
     ]
    }
   ],
   "source": [
    "print('Shape before deleting duplicate values:', traders_data.shape)\n",
    "# Removing duplicate rows if any\n",
    "traders_data = traders_data.drop_duplicates()\n",
    "print('Shape After deleting duplicate values:', traders_data.shape)"
   ]
  },
  {
   "cell_type": "code",
   "execution_count": 21,
   "metadata": {},
   "outputs": [
    {
     "data": {
      "text/plain": [
       "Index(['countryCode', 'firstName', 'lastName', 'traderId', 'stockSymbol',\n",
       "       'stockName', 'tradeId', 'price', 'volume', 'tradeDatetime'],\n",
       "      dtype='object')"
      ]
     },
     "execution_count": 21,
     "metadata": {},
     "output_type": "execute_result"
    }
   ],
   "source": [
    "traders_data.columns"
   ]
  },
  {
   "cell_type": "markdown",
   "metadata": {},
   "source": [
    "## Data Exploration"
   ]
  },
  {
   "cell_type": "code",
   "execution_count": 22,
   "metadata": {},
   "outputs": [
    {
     "name": "stdout",
     "output_type": "stream",
     "text": [
      "<class 'pandas.core.frame.DataFrame'>\n",
      "Int64Index: 1000 entries, 0 to 999\n",
      "Data columns (total 10 columns):\n",
      " #   Column         Non-Null Count  Dtype  \n",
      "---  ------         --------------  -----  \n",
      " 0   countryCode    795 non-null    object \n",
      " 1   firstName      795 non-null    object \n",
      " 2   lastName       795 non-null    object \n",
      " 3   traderId       795 non-null    object \n",
      " 4   stockSymbol    913 non-null    object \n",
      " 5   stockName      913 non-null    object \n",
      " 6   tradeId        909 non-null    object \n",
      " 7   price          898 non-null    float64\n",
      " 8   volume         895 non-null    float64\n",
      " 9   tradeDatetime  902 non-null    object \n",
      "dtypes: float64(2), object(8)\n",
      "memory usage: 85.9+ KB\n"
     ]
    }
   ],
   "source": [
    "# Observing the summarized information of data\n",
    "# Data types, Missing values based on number of non-null values Vs total rows etc.\n",
    "traders_data.info()"
   ]
  },
  {
   "cell_type": "markdown",
   "metadata": {},
   "source": [
    "**Highlights**\n",
    "\n",
    "* Dataset contains details of 1000 trading details in 10 features.\n",
    "* Every feature have missing values.\n",
    "* tradeDatetime data type is string that need to convert to datatime.\n",
    "* Memory Usage: 78.2 KB"
   ]
  },
  {
   "cell_type": "markdown",
   "metadata": {},
   "source": [
    "### Date preprocessing"
   ]
  },
  {
   "cell_type": "code",
   "execution_count": 23,
   "metadata": {},
   "outputs": [],
   "source": [
    "# Updating datatype of 'tradeDatetime' from string to datetime\n",
    "traders_data['tradeDatetime'] = pd.to_datetime(traders_data['tradeDatetime'])\n",
    "# traders_data['tradeDate'] = (traders_data['tradeDatetime']).apply(lambda x: pd.to_datetime(x.date()))\n",
    "\n",
    "\n",
    "# Removing the time stamp from the datatime \n",
    "traders_data['tradeDate'] = traders_data['tradeDatetime'].apply(lambda x: pd.to_datetime(x.date()))\n",
    "\n",
    "traders_data['tradeDate'] = pd.to_datetime(traders_data['tradeDate'])\n",
    "# traders_data['volume'] = traders_data['volume'].astype(int)"
   ]
  },
  {
   "cell_type": "code",
   "execution_count": 24,
   "metadata": {},
   "outputs": [],
   "source": [
    "from typing import List, Union"
   ]
  },
  {
   "cell_type": "code",
   "execution_count": 25,
   "metadata": {},
   "outputs": [
    {
     "name": "stdout",
     "output_type": "stream",
     "text": [
      "<class 'pandas.core.frame.DataFrame'>\n",
      "Int64Index: 1000 entries, 0 to 999\n",
      "Data columns (total 11 columns):\n",
      " #   Column         Non-Null Count  Dtype         \n",
      "---  ------         --------------  -----         \n",
      " 0   countryCode    795 non-null    object        \n",
      " 1   firstName      795 non-null    object        \n",
      " 2   lastName       795 non-null    object        \n",
      " 3   traderId       795 non-null    object        \n",
      " 4   stockSymbol    913 non-null    object        \n",
      " 5   stockName      913 non-null    object        \n",
      " 6   tradeId        909 non-null    object        \n",
      " 7   price          898 non-null    float64       \n",
      " 8   volume         895 non-null    float64       \n",
      " 9   tradeDatetime  902 non-null    datetime64[ns]\n",
      " 10  tradeDate      902 non-null    datetime64[ns]\n",
      "dtypes: datetime64[ns](2), float64(2), object(7)\n",
      "memory usage: 93.8+ KB\n"
     ]
    }
   ],
   "source": [
    "traders_data.info()"
   ]
  },
  {
   "cell_type": "code",
   "execution_count": 26,
   "metadata": {},
   "outputs": [
    {
     "data": {
      "text/html": [
       "<div>\n",
       "<style scoped>\n",
       "    .dataframe tbody tr th:only-of-type {\n",
       "        vertical-align: middle;\n",
       "    }\n",
       "\n",
       "    .dataframe tbody tr th {\n",
       "        vertical-align: top;\n",
       "    }\n",
       "\n",
       "    .dataframe thead th {\n",
       "        text-align: right;\n",
       "    }\n",
       "</style>\n",
       "<table border=\"1\" class=\"dataframe\">\n",
       "  <thead>\n",
       "    <tr style=\"text-align: right;\">\n",
       "      <th></th>\n",
       "      <th>countryCode</th>\n",
       "      <th>firstName</th>\n",
       "      <th>lastName</th>\n",
       "      <th>traderId</th>\n",
       "      <th>stockSymbol</th>\n",
       "      <th>stockName</th>\n",
       "      <th>tradeId</th>\n",
       "      <th>price</th>\n",
       "      <th>volume</th>\n",
       "      <th>tradeDatetime</th>\n",
       "      <th>tradeDate</th>\n",
       "    </tr>\n",
       "  </thead>\n",
       "  <tbody>\n",
       "    <tr>\n",
       "      <th>0</th>\n",
       "      <td>TV</td>\n",
       "      <td>Vanessa</td>\n",
       "      <td>Green</td>\n",
       "      <td>MUVGtYHdeMdauAxzEJvt</td>\n",
       "      <td>FB</td>\n",
       "      <td>Facebook</td>\n",
       "      <td>NaN</td>\n",
       "      <td>1701.76000</td>\n",
       "      <td>58.0</td>\n",
       "      <td>2020-04-03 07:03:32</td>\n",
       "      <td>2020-04-03</td>\n",
       "    </tr>\n",
       "    <tr>\n",
       "      <th>1</th>\n",
       "      <td>NaN</td>\n",
       "      <td>NaN</td>\n",
       "      <td>NaN</td>\n",
       "      <td>NaN</td>\n",
       "      <td>FB</td>\n",
       "      <td>Facebook</td>\n",
       "      <td>P5-3756422C</td>\n",
       "      <td>NaN</td>\n",
       "      <td>98.0</td>\n",
       "      <td>2020-01-13 08:29:53</td>\n",
       "      <td>2020-01-13</td>\n",
       "    </tr>\n",
       "    <tr>\n",
       "      <th>2</th>\n",
       "      <td>UZ</td>\n",
       "      <td>Brandi</td>\n",
       "      <td>Robbins</td>\n",
       "      <td>JTzVqzzIkFlrYUQbhnOR</td>\n",
       "      <td>AMZN</td>\n",
       "      <td>Amazon</td>\n",
       "      <td>X0-7401234c</td>\n",
       "      <td>1857.63056</td>\n",
       "      <td>NaN</td>\n",
       "      <td>2020-07-16 07:18:39</td>\n",
       "      <td>2020-07-16</td>\n",
       "    </tr>\n",
       "    <tr>\n",
       "      <th>3</th>\n",
       "      <td>BT</td>\n",
       "      <td>Allison</td>\n",
       "      <td>Davis</td>\n",
       "      <td>TzqyQTQjZGeLZuJqlLaQ</td>\n",
       "      <td>AMZN</td>\n",
       "      <td>Amazon</td>\n",
       "      <td>K3-3189326K</td>\n",
       "      <td>2078.44030</td>\n",
       "      <td>32.0</td>\n",
       "      <td>2020-07-07 13:59:03</td>\n",
       "      <td>2020-07-07</td>\n",
       "    </tr>\n",
       "    <tr>\n",
       "      <th>4</th>\n",
       "      <td>SZ</td>\n",
       "      <td>Blake</td>\n",
       "      <td>Martin</td>\n",
       "      <td>WVcMKILUHtBkEahrPLrG</td>\n",
       "      <td>FB</td>\n",
       "      <td>Facebook</td>\n",
       "      <td>U4-1266883G</td>\n",
       "      <td>1809.60000</td>\n",
       "      <td>212.0</td>\n",
       "      <td>2020-08-01 02:57:54</td>\n",
       "      <td>2020-08-01</td>\n",
       "    </tr>\n",
       "  </tbody>\n",
       "</table>\n",
       "</div>"
      ],
      "text/plain": [
       "  countryCode firstName lastName              traderId stockSymbol stockName  \\\n",
       "0          TV   Vanessa    Green  MUVGtYHdeMdauAxzEJvt          FB  Facebook   \n",
       "1         NaN       NaN      NaN                   NaN          FB  Facebook   \n",
       "2          UZ    Brandi  Robbins  JTzVqzzIkFlrYUQbhnOR        AMZN    Amazon   \n",
       "3          BT   Allison    Davis  TzqyQTQjZGeLZuJqlLaQ        AMZN    Amazon   \n",
       "4          SZ     Blake   Martin  WVcMKILUHtBkEahrPLrG          FB  Facebook   \n",
       "\n",
       "       tradeId       price  volume       tradeDatetime  tradeDate  \n",
       "0          NaN  1701.76000    58.0 2020-04-03 07:03:32 2020-04-03  \n",
       "1  P5-3756422C         NaN    98.0 2020-01-13 08:29:53 2020-01-13  \n",
       "2  X0-7401234c  1857.63056     NaN 2020-07-16 07:18:39 2020-07-16  \n",
       "3  K3-3189326K  2078.44030    32.0 2020-07-07 13:59:03 2020-07-07  \n",
       "4  U4-1266883G  1809.60000   212.0 2020-08-01 02:57:54 2020-08-01  "
      ]
     },
     "execution_count": 26,
     "metadata": {},
     "output_type": "execute_result"
    }
   ],
   "source": [
    "traders_data.head()"
   ]
  },
  {
   "cell_type": "code",
   "execution_count": 27,
   "metadata": {},
   "outputs": [
    {
     "data": {
      "text/html": [
       "<div>\n",
       "<style scoped>\n",
       "    .dataframe tbody tr th:only-of-type {\n",
       "        vertical-align: middle;\n",
       "    }\n",
       "\n",
       "    .dataframe tbody tr th {\n",
       "        vertical-align: top;\n",
       "    }\n",
       "\n",
       "    .dataframe thead th {\n",
       "        text-align: right;\n",
       "    }\n",
       "</style>\n",
       "<table border=\"1\" class=\"dataframe\">\n",
       "  <thead>\n",
       "    <tr style=\"text-align: right;\">\n",
       "      <th></th>\n",
       "      <th>price</th>\n",
       "      <th>volume</th>\n",
       "    </tr>\n",
       "  </thead>\n",
       "  <tbody>\n",
       "    <tr>\n",
       "      <th>count</th>\n",
       "      <td>898.000000</td>\n",
       "      <td>895.000000</td>\n",
       "    </tr>\n",
       "    <tr>\n",
       "      <th>mean</th>\n",
       "      <td>1992.943372</td>\n",
       "      <td>148.887151</td>\n",
       "    </tr>\n",
       "    <tr>\n",
       "      <th>std</th>\n",
       "      <td>288.685224</td>\n",
       "      <td>86.763078</td>\n",
       "    </tr>\n",
       "    <tr>\n",
       "      <th>min</th>\n",
       "      <td>1501.000000</td>\n",
       "      <td>0.000000</td>\n",
       "    </tr>\n",
       "    <tr>\n",
       "      <th>25%</th>\n",
       "      <td>1751.314618</td>\n",
       "      <td>70.000000</td>\n",
       "    </tr>\n",
       "    <tr>\n",
       "      <th>50%</th>\n",
       "      <td>1988.310480</td>\n",
       "      <td>148.000000</td>\n",
       "    </tr>\n",
       "    <tr>\n",
       "      <th>75%</th>\n",
       "      <td>2235.975207</td>\n",
       "      <td>221.000000</td>\n",
       "    </tr>\n",
       "    <tr>\n",
       "      <th>max</th>\n",
       "      <td>2499.120000</td>\n",
       "      <td>300.000000</td>\n",
       "    </tr>\n",
       "  </tbody>\n",
       "</table>\n",
       "</div>"
      ],
      "text/plain": [
       "             price      volume\n",
       "count   898.000000  895.000000\n",
       "mean   1992.943372  148.887151\n",
       "std     288.685224   86.763078\n",
       "min    1501.000000    0.000000\n",
       "25%    1751.314618   70.000000\n",
       "50%    1988.310480  148.000000\n",
       "75%    2235.975207  221.000000\n",
       "max    2499.120000  300.000000"
      ]
     },
     "execution_count": 27,
     "metadata": {},
     "output_type": "execute_result"
    }
   ],
   "source": [
    "# Looking at the descriptive statistics of the data\n",
    "traders_data.describe()"
   ]
  },
  {
   "cell_type": "code",
   "execution_count": 28,
   "metadata": {},
   "outputs": [
    {
     "data": {
      "text/plain": [
       "countryCode       19\n",
       "firstName         20\n",
       "lastName          20\n",
       "traderId          20\n",
       "stockSymbol        3\n",
       "stockName          3\n",
       "tradeId          909\n",
       "price            879\n",
       "volume           286\n",
       "tradeDatetime    902\n",
       "tradeDate        206\n",
       "dtype: int64"
      ]
     },
     "execution_count": 28,
     "metadata": {},
     "output_type": "execute_result"
    }
   ],
   "source": [
    "# Finding unique values for each column\n",
    "# TO understand which column is categorical and which one is Continuous\n",
    "# Typically if the numer of unique values are < 20 then the variable is likely to be a category otherwise continuous\n",
    "traders_data.nunique()"
   ]
  },
  {
   "cell_type": "markdown",
   "metadata": {},
   "source": [
    "### Data Cleaning\n",
    "Trade dataset contains trading details for Amazon, Facebook, Tesla, however our objective is to find suspicous data for Amazon for Feb and March month. So dataset need to remove the unnecessary data from traders dataset."
   ]
  },
  {
   "cell_type": "code",
   "execution_count": 29,
   "metadata": {},
   "outputs": [
    {
     "name": "stdout",
     "output_type": "stream",
     "text": [
      "Traders dataset start date :  2020-01-06 00:00:00\n",
      "Traders dataset end date :  2020-08-01 00:00:00\n"
     ]
    }
   ],
   "source": [
    "# Date range of traders dataset\n",
    "print('Traders dataset start date : ',traders_data['tradeDate'].min())\n",
    "print('Traders dataset end date : ',traders_data['tradeDate'].max())"
   ]
  },
  {
   "cell_type": "markdown",
   "metadata": {},
   "source": [
    "Traders dataset contains data from Jan to Aug 2020. However our objective is to find fraud traders for Feb & March, 2020. So now, we keep the data only for Feb and March."
   ]
  },
  {
   "cell_type": "code",
   "execution_count": 30,
   "metadata": {},
   "outputs": [
    {
     "data": {
      "text/plain": [
       "(1000, 11)"
      ]
     },
     "execution_count": 30,
     "metadata": {},
     "output_type": "execute_result"
    }
   ],
   "source": [
    "traders_data.shape"
   ]
  },
  {
   "cell_type": "code",
   "execution_count": 31,
   "metadata": {},
   "outputs": [],
   "source": [
    "# Define function to filter dataset\n",
    "def filter_trader_data(df, company, start_date, end_date):\n",
    "    '''\n",
    "    Returns the filtered trader data based on company, start date and end date.\n",
    "\n",
    "    Parameters:\n",
    "        df (dataframe):The trader data which is to be filter.\n",
    "        company (string): Company by which trader data need to filter.\n",
    "        start_date (string) : Start date from where trader data require.\n",
    "        end_date (string) : End date till trader data require.\n",
    "        \n",
    "\n",
    "    Returns:\n",
    "        The trader dataframe which gets filtered.   \n",
    "    '''\n",
    "    return df[(df['stockSymbol']==company) & \n",
    "                            (df['tradeDate']>=start_date) & \n",
    "                            (df['tradeDatetime']<=end_date)].reset_index(drop=True)"
   ]
  },
  {
   "cell_type": "code",
   "execution_count": 32,
   "metadata": {},
   "outputs": [],
   "source": [
    "traders_data = filter_trader_data(traders_data,'AMZN','2020-02-01','2020-03-31')"
   ]
  },
  {
   "cell_type": "code",
   "execution_count": 33,
   "metadata": {},
   "outputs": [
    {
     "data": {
      "text/plain": [
       "(98, 11)"
      ]
     },
     "execution_count": 33,
     "metadata": {},
     "output_type": "execute_result"
    }
   ],
   "source": [
    "traders_data.shape"
   ]
  },
  {
   "cell_type": "code",
   "execution_count": 34,
   "metadata": {},
   "outputs": [
    {
     "name": "stdout",
     "output_type": "stream",
     "text": [
      "<class 'pandas.core.frame.DataFrame'>\n",
      "RangeIndex: 98 entries, 0 to 97\n",
      "Data columns (total 11 columns):\n",
      " #   Column         Non-Null Count  Dtype         \n",
      "---  ------         --------------  -----         \n",
      " 0   countryCode    74 non-null     object        \n",
      " 1   firstName      74 non-null     object        \n",
      " 2   lastName       74 non-null     object        \n",
      " 3   traderId       74 non-null     object        \n",
      " 4   stockSymbol    98 non-null     object        \n",
      " 5   stockName      98 non-null     object        \n",
      " 6   tradeId        92 non-null     object        \n",
      " 7   price          87 non-null     float64       \n",
      " 8   volume         85 non-null     float64       \n",
      " 9   tradeDatetime  98 non-null     datetime64[ns]\n",
      " 10  tradeDate      98 non-null     datetime64[ns]\n",
      "dtypes: datetime64[ns](2), float64(2), object(7)\n",
      "memory usage: 8.5+ KB\n"
     ]
    }
   ],
   "source": [
    "traders_data.info()"
   ]
  },
  {
   "cell_type": "markdown",
   "metadata": {},
   "source": [
    "### Missing Data"
   ]
  },
  {
   "cell_type": "code",
   "execution_count": 35,
   "metadata": {},
   "outputs": [
    {
     "data": {
      "text/html": [
       "<div>\n",
       "<style scoped>\n",
       "    .dataframe tbody tr th:only-of-type {\n",
       "        vertical-align: middle;\n",
       "    }\n",
       "\n",
       "    .dataframe tbody tr th {\n",
       "        vertical-align: top;\n",
       "    }\n",
       "\n",
       "    .dataframe thead th {\n",
       "        text-align: right;\n",
       "    }\n",
       "</style>\n",
       "<table border=\"1\" class=\"dataframe\">\n",
       "  <thead>\n",
       "    <tr style=\"text-align: right;\">\n",
       "      <th></th>\n",
       "      <th>Total</th>\n",
       "      <th>Percent</th>\n",
       "    </tr>\n",
       "  </thead>\n",
       "  <tbody>\n",
       "    <tr>\n",
       "      <th>traderId</th>\n",
       "      <td>24</td>\n",
       "      <td>24.489796</td>\n",
       "    </tr>\n",
       "    <tr>\n",
       "      <th>lastName</th>\n",
       "      <td>24</td>\n",
       "      <td>24.489796</td>\n",
       "    </tr>\n",
       "    <tr>\n",
       "      <th>firstName</th>\n",
       "      <td>24</td>\n",
       "      <td>24.489796</td>\n",
       "    </tr>\n",
       "    <tr>\n",
       "      <th>countryCode</th>\n",
       "      <td>24</td>\n",
       "      <td>24.489796</td>\n",
       "    </tr>\n",
       "    <tr>\n",
       "      <th>volume</th>\n",
       "      <td>13</td>\n",
       "      <td>13.265306</td>\n",
       "    </tr>\n",
       "    <tr>\n",
       "      <th>price</th>\n",
       "      <td>11</td>\n",
       "      <td>11.224490</td>\n",
       "    </tr>\n",
       "    <tr>\n",
       "      <th>tradeId</th>\n",
       "      <td>6</td>\n",
       "      <td>6.122449</td>\n",
       "    </tr>\n",
       "    <tr>\n",
       "      <th>tradeDate</th>\n",
       "      <td>0</td>\n",
       "      <td>0.000000</td>\n",
       "    </tr>\n",
       "    <tr>\n",
       "      <th>tradeDatetime</th>\n",
       "      <td>0</td>\n",
       "      <td>0.000000</td>\n",
       "    </tr>\n",
       "    <tr>\n",
       "      <th>stockName</th>\n",
       "      <td>0</td>\n",
       "      <td>0.000000</td>\n",
       "    </tr>\n",
       "    <tr>\n",
       "      <th>stockSymbol</th>\n",
       "      <td>0</td>\n",
       "      <td>0.000000</td>\n",
       "    </tr>\n",
       "  </tbody>\n",
       "</table>\n",
       "</div>"
      ],
      "text/plain": [
       "               Total    Percent\n",
       "traderId          24  24.489796\n",
       "lastName          24  24.489796\n",
       "firstName         24  24.489796\n",
       "countryCode       24  24.489796\n",
       "volume            13  13.265306\n",
       "price             11  11.224490\n",
       "tradeId            6   6.122449\n",
       "tradeDate          0   0.000000\n",
       "tradeDatetime      0   0.000000\n",
       "stockName          0   0.000000\n",
       "stockSymbol        0   0.000000"
      ]
     },
     "execution_count": 35,
     "metadata": {},
     "output_type": "execute_result"
    }
   ],
   "source": [
    "# Find missing data and their percentage\n",
    "total = traders_data.isnull().sum().sort_values(ascending=False)\n",
    "percent = ((traders_data.isnull().sum()/traders_data.isnull().count())*100).sort_values(ascending=False)\n",
    "missing_data = pd.concat([total, percent], axis=1, keys=['Total', 'Percent'])\n",
    "missing_data.head(20)"
   ]
  },
  {
   "cell_type": "markdown",
   "metadata": {},
   "source": [
    "**Highlights**\n",
    "\n",
    "* About 24.5% of data are missing from firstName, lastName and countryCode. It will be not effective if will impute these missing values with their mode values. So, deleting the missing values somewhat usually not the best solution. However, it can be useful when most values in a column are missing."
   ]
  },
  {
   "cell_type": "code",
   "execution_count": 36,
   "metadata": {},
   "outputs": [],
   "source": [
    "# View null values of dataset\n",
    "# traders_data[traders_data.isnull().any(axis=1)]\n",
    "# traders_data[traders_data['price'].isnull()]"
   ]
  },
  {
   "cell_type": "markdown",
   "metadata": {},
   "source": [
    "### Missing values treatment"
   ]
  },
  {
   "cell_type": "code",
   "execution_count": 37,
   "metadata": {},
   "outputs": [
    {
     "name": "stdout",
     "output_type": "stream",
     "text": [
      "<class 'pandas.core.frame.DataFrame'>\n",
      "Int64Index: 55 entries, 0 to 97\n",
      "Data columns (total 11 columns):\n",
      " #   Column         Non-Null Count  Dtype         \n",
      "---  ------         --------------  -----         \n",
      " 0   countryCode    55 non-null     object        \n",
      " 1   firstName      55 non-null     object        \n",
      " 2   lastName       55 non-null     object        \n",
      " 3   traderId       55 non-null     object        \n",
      " 4   stockSymbol    55 non-null     object        \n",
      " 5   stockName      55 non-null     object        \n",
      " 6   tradeId        55 non-null     object        \n",
      " 7   price          55 non-null     float64       \n",
      " 8   volume         55 non-null     float64       \n",
      " 9   tradeDatetime  55 non-null     datetime64[ns]\n",
      " 10  tradeDate      55 non-null     datetime64[ns]\n",
      "dtypes: datetime64[ns](2), float64(2), object(7)\n",
      "memory usage: 5.2+ KB\n"
     ]
    }
   ],
   "source": [
    "# Deleting the missing values\n",
    "traders_data.dropna(axis=0, inplace=True)\n",
    "\n",
    "# Reset the index of traders dataset\n",
    "traders_data.reset_index(drop=True)\n",
    "\n",
    "# Finally check the summary of trader dataset\n",
    "traders_data.info()"
   ]
  },
  {
   "cell_type": "code",
   "execution_count": 38,
   "metadata": {},
   "outputs": [
    {
     "data": {
      "text/plain": [
       "False"
      ]
     },
     "execution_count": 38,
     "metadata": {},
     "output_type": "execute_result"
    }
   ],
   "source": [
    "traders_data[['tradeDate','tradeId']].isnull().values.any()"
   ]
  },
  {
   "cell_type": "markdown",
   "metadata": {},
   "source": [
    "## Saving final preprocessed traders data"
   ]
  },
  {
   "cell_type": "code",
   "execution_count": 39,
   "metadata": {},
   "outputs": [],
   "source": [
    "SelectedColumns = ['countryCode', 'firstName', 'lastName', 'traderId', 'stockSymbol',\n",
    "       'stockName', 'tradeId', 'price', 'volume', 'tradeDate']\n",
    "\n",
    "# Selecting final columns\n",
    "TradersDataClean=traders_data[SelectedColumns]"
   ]
  },
  {
   "cell_type": "code",
   "execution_count": 40,
   "metadata": {},
   "outputs": [
    {
     "data": {
      "text/plain": [
       "Index(['countryCode', 'firstName', 'lastName', 'traderId', 'stockSymbol',\n",
       "       'stockName', 'tradeId'],\n",
       "      dtype='object')"
      ]
     },
     "execution_count": 40,
     "metadata": {},
     "output_type": "execute_result"
    }
   ],
   "source": [
    "# TradersDataClean.nunique()\n",
    "TradersDataClean.select_dtypes(include=\"O\").columns"
   ]
  },
  {
   "cell_type": "code",
   "execution_count": 41,
   "metadata": {},
   "outputs": [],
   "source": [
    "# Saving this final data for reference during deployment\n",
    "TradersDataClean.to_pickle('TradersDataClean.pkl')"
   ]
  },
  {
   "cell_type": "markdown",
   "metadata": {},
   "source": [
    "## Merger stock & traders datasets"
   ]
  },
  {
   "cell_type": "code",
   "execution_count": 42,
   "metadata": {},
   "outputs": [],
   "source": [
    "'''\n",
    "Merge the trader dataset and stock dataset based on the key, trading date and stock date. \n",
    "Use keys from the trader dataset only, as on same date many traders can trade. \n",
    "'''\n",
    "\n",
    "merge_data = pd.merge(traders_data, stock_data, how='left', left_on='tradeDate', right_on='Date', \n",
    "                      left_index=True, right_index=False)"
   ]
  },
  {
   "cell_type": "code",
   "execution_count": 43,
   "metadata": {},
   "outputs": [
    {
     "data": {
      "text/html": [
       "<div>\n",
       "<style scoped>\n",
       "    .dataframe tbody tr th:only-of-type {\n",
       "        vertical-align: middle;\n",
       "    }\n",
       "\n",
       "    .dataframe tbody tr th {\n",
       "        vertical-align: top;\n",
       "    }\n",
       "\n",
       "    .dataframe thead th {\n",
       "        text-align: right;\n",
       "    }\n",
       "</style>\n",
       "<table border=\"1\" class=\"dataframe\">\n",
       "  <thead>\n",
       "    <tr style=\"text-align: right;\">\n",
       "      <th></th>\n",
       "      <th>countryCode</th>\n",
       "      <th>firstName</th>\n",
       "      <th>lastName</th>\n",
       "      <th>traderId</th>\n",
       "      <th>stockSymbol</th>\n",
       "      <th>stockName</th>\n",
       "      <th>tradeId</th>\n",
       "      <th>price</th>\n",
       "      <th>volume</th>\n",
       "      <th>tradeDatetime</th>\n",
       "      <th>tradeDate</th>\n",
       "      <th>Date</th>\n",
       "      <th>High</th>\n",
       "      <th>Low</th>\n",
       "      <th>Open</th>\n",
       "      <th>Close</th>\n",
       "      <th>Volume</th>\n",
       "      <th>Adj Close</th>\n",
       "    </tr>\n",
       "  </thead>\n",
       "  <tbody>\n",
       "    <tr>\n",
       "      <th>6.0</th>\n",
       "      <td>NZ</td>\n",
       "      <td>Brittany</td>\n",
       "      <td>Herring</td>\n",
       "      <td>pjjFIyeNTWRUWCuKoQSU</td>\n",
       "      <td>AMZN</td>\n",
       "      <td>Amazon</td>\n",
       "      <td>U9-4261680I</td>\n",
       "      <td>2351.144500</td>\n",
       "      <td>154.0</td>\n",
       "      <td>2020-02-10 17:42:11</td>\n",
       "      <td>2020-02-10</td>\n",
       "      <td>2020-02-10</td>\n",
       "      <td>2135.600098</td>\n",
       "      <td>2084.959961</td>\n",
       "      <td>2085.01001</td>\n",
       "      <td>2133.909912</td>\n",
       "      <td>5056200.0</td>\n",
       "      <td>2133.909912</td>\n",
       "    </tr>\n",
       "    <tr>\n",
       "      <th>6.0</th>\n",
       "      <td>KP</td>\n",
       "      <td>Tonya</td>\n",
       "      <td>Hernandez</td>\n",
       "      <td>wsdSKUxJgukcXlhktChZ</td>\n",
       "      <td>AMZN</td>\n",
       "      <td>Amazon</td>\n",
       "      <td>t6-6375744g</td>\n",
       "      <td>2402.000000</td>\n",
       "      <td>249.0</td>\n",
       "      <td>2020-02-10 11:14:06</td>\n",
       "      <td>2020-02-10</td>\n",
       "      <td>2020-02-10</td>\n",
       "      <td>2135.600098</td>\n",
       "      <td>2084.959961</td>\n",
       "      <td>2085.01001</td>\n",
       "      <td>2133.909912</td>\n",
       "      <td>5056200.0</td>\n",
       "      <td>2133.909912</td>\n",
       "    </tr>\n",
       "    <tr>\n",
       "      <th>6.0</th>\n",
       "      <td>KM</td>\n",
       "      <td>John</td>\n",
       "      <td>Nguyen</td>\n",
       "      <td>JyfwFVYySnPCaLuQIazT</td>\n",
       "      <td>AMZN</td>\n",
       "      <td>Amazon</td>\n",
       "      <td>k9-63748e</td>\n",
       "      <td>1577.273484</td>\n",
       "      <td>117.0</td>\n",
       "      <td>2020-02-10 19:35:43</td>\n",
       "      <td>2020-02-10</td>\n",
       "      <td>2020-02-10</td>\n",
       "      <td>2135.600098</td>\n",
       "      <td>2084.959961</td>\n",
       "      <td>2085.01001</td>\n",
       "      <td>2133.909912</td>\n",
       "      <td>5056200.0</td>\n",
       "      <td>2133.909912</td>\n",
       "    </tr>\n",
       "  </tbody>\n",
       "</table>\n",
       "</div>"
      ],
      "text/plain": [
       "    countryCode firstName   lastName              traderId stockSymbol  \\\n",
       "6.0          NZ  Brittany    Herring  pjjFIyeNTWRUWCuKoQSU        AMZN   \n",
       "6.0          KP     Tonya  Hernandez  wsdSKUxJgukcXlhktChZ        AMZN   \n",
       "6.0          KM      John     Nguyen  JyfwFVYySnPCaLuQIazT        AMZN   \n",
       "\n",
       "    stockName      tradeId        price  volume       tradeDatetime  \\\n",
       "6.0    Amazon  U9-4261680I  2351.144500   154.0 2020-02-10 17:42:11   \n",
       "6.0    Amazon  t6-6375744g  2402.000000   249.0 2020-02-10 11:14:06   \n",
       "6.0    Amazon    k9-63748e  1577.273484   117.0 2020-02-10 19:35:43   \n",
       "\n",
       "     tradeDate       Date         High          Low        Open        Close  \\\n",
       "6.0 2020-02-10 2020-02-10  2135.600098  2084.959961  2085.01001  2133.909912   \n",
       "6.0 2020-02-10 2020-02-10  2135.600098  2084.959961  2085.01001  2133.909912   \n",
       "6.0 2020-02-10 2020-02-10  2135.600098  2084.959961  2085.01001  2133.909912   \n",
       "\n",
       "        Volume    Adj Close  \n",
       "6.0  5056200.0  2133.909912  \n",
       "6.0  5056200.0  2133.909912  \n",
       "6.0  5056200.0  2133.909912  "
      ]
     },
     "execution_count": 43,
     "metadata": {},
     "output_type": "execute_result"
    }
   ],
   "source": [
    "# Lets check quickly data after merging for any particular date\n",
    "merge_data[merge_data['tradeDate'] == '2020-02-10']"
   ]
  },
  {
   "cell_type": "code",
   "execution_count": 44,
   "metadata": {},
   "outputs": [
    {
     "name": "stdout",
     "output_type": "stream",
     "text": [
      "(55, 11)\n",
      "(42, 7)\n",
      "(55, 18)\n"
     ]
    }
   ],
   "source": [
    "# Checking datasets size\n",
    "print(traders_data.shape)\n",
    "print(stock_data.shape)\n",
    "print(merge_data.shape)"
   ]
  },
  {
   "cell_type": "code",
   "execution_count": 45,
   "metadata": {},
   "outputs": [
    {
     "data": {
      "text/html": [
       "<div>\n",
       "<style scoped>\n",
       "    .dataframe tbody tr th:only-of-type {\n",
       "        vertical-align: middle;\n",
       "    }\n",
       "\n",
       "    .dataframe tbody tr th {\n",
       "        vertical-align: top;\n",
       "    }\n",
       "\n",
       "    .dataframe thead th {\n",
       "        text-align: right;\n",
       "    }\n",
       "</style>\n",
       "<table border=\"1\" class=\"dataframe\">\n",
       "  <thead>\n",
       "    <tr style=\"text-align: right;\">\n",
       "      <th></th>\n",
       "      <th>countryCode</th>\n",
       "      <th>firstName</th>\n",
       "      <th>lastName</th>\n",
       "      <th>traderId</th>\n",
       "      <th>stockSymbol</th>\n",
       "      <th>stockName</th>\n",
       "      <th>tradeId</th>\n",
       "      <th>price</th>\n",
       "      <th>volume</th>\n",
       "      <th>tradeDatetime</th>\n",
       "      <th>tradeDate</th>\n",
       "      <th>Date</th>\n",
       "      <th>High</th>\n",
       "      <th>Low</th>\n",
       "      <th>Open</th>\n",
       "      <th>Close</th>\n",
       "      <th>Volume</th>\n",
       "      <th>Adj Close</th>\n",
       "    </tr>\n",
       "  </thead>\n",
       "  <tbody>\n",
       "    <tr>\n",
       "      <th>6.0</th>\n",
       "      <td>NZ</td>\n",
       "      <td>Brittany</td>\n",
       "      <td>Herring</td>\n",
       "      <td>pjjFIyeNTWRUWCuKoQSU</td>\n",
       "      <td>AMZN</td>\n",
       "      <td>Amazon</td>\n",
       "      <td>U9-4261680I</td>\n",
       "      <td>2351.144500</td>\n",
       "      <td>154.0</td>\n",
       "      <td>2020-02-10 17:42:11</td>\n",
       "      <td>2020-02-10</td>\n",
       "      <td>2020-02-10</td>\n",
       "      <td>2135.600098</td>\n",
       "      <td>2084.959961</td>\n",
       "      <td>2085.010010</td>\n",
       "      <td>2133.909912</td>\n",
       "      <td>5056200.0</td>\n",
       "      <td>2133.909912</td>\n",
       "    </tr>\n",
       "    <tr>\n",
       "      <th>33.0</th>\n",
       "      <td>KZ</td>\n",
       "      <td>Vicki</td>\n",
       "      <td>Burgess</td>\n",
       "      <td>deTclcaRrihIYAUADJPN</td>\n",
       "      <td>AMZN</td>\n",
       "      <td>Amazon</td>\n",
       "      <td>C7-0894722J</td>\n",
       "      <td>1809.000000</td>\n",
       "      <td>156.0</td>\n",
       "      <td>2020-03-19 05:12:18</td>\n",
       "      <td>2020-03-19</td>\n",
       "      <td>2020-03-19</td>\n",
       "      <td>1945.000000</td>\n",
       "      <td>1832.650024</td>\n",
       "      <td>1860.000000</td>\n",
       "      <td>1880.930054</td>\n",
       "      <td>10399900.0</td>\n",
       "      <td>1880.930054</td>\n",
       "    </tr>\n",
       "    <tr>\n",
       "      <th>14.0</th>\n",
       "      <td>TN</td>\n",
       "      <td>Tony</td>\n",
       "      <td>Hoffman</td>\n",
       "      <td>vHakrmHtTDvuKvIcxniB</td>\n",
       "      <td>AMZN</td>\n",
       "      <td>Amazon</td>\n",
       "      <td>Z0-494338r</td>\n",
       "      <td>1901.210337</td>\n",
       "      <td>77.0</td>\n",
       "      <td>2020-02-21 14:13:00</td>\n",
       "      <td>2020-02-21</td>\n",
       "      <td>2020-02-21</td>\n",
       "      <td>2144.550049</td>\n",
       "      <td>2088.000000</td>\n",
       "      <td>2142.149902</td>\n",
       "      <td>2095.969971</td>\n",
       "      <td>4646300.0</td>\n",
       "      <td>2095.969971</td>\n",
       "    </tr>\n",
       "    <tr>\n",
       "      <th>34.0</th>\n",
       "      <td>BT</td>\n",
       "      <td>Allison</td>\n",
       "      <td>Davis</td>\n",
       "      <td>TzqyQTQjZGeLZuJqlLaQ</td>\n",
       "      <td>AMZN</td>\n",
       "      <td>Amazon</td>\n",
       "      <td>g2-90716Y</td>\n",
       "      <td>1779.637800</td>\n",
       "      <td>148.0</td>\n",
       "      <td>2020-03-20 20:55:57</td>\n",
       "      <td>2020-03-20</td>\n",
       "      <td>2020-03-20</td>\n",
       "      <td>1957.000000</td>\n",
       "      <td>1820.729980</td>\n",
       "      <td>1926.310059</td>\n",
       "      <td>1846.089966</td>\n",
       "      <td>9817900.0</td>\n",
       "      <td>1846.089966</td>\n",
       "    </tr>\n",
       "    <tr>\n",
       "      <th>NaN</th>\n",
       "      <td>MK</td>\n",
       "      <td>Scott</td>\n",
       "      <td>Thompson</td>\n",
       "      <td>sjAcfZksMRViIYdJRrnF</td>\n",
       "      <td>AMZN</td>\n",
       "      <td>Amazon</td>\n",
       "      <td>F0-4606780P</td>\n",
       "      <td>2403.190000</td>\n",
       "      <td>175.0</td>\n",
       "      <td>2020-02-29 21:32:35</td>\n",
       "      <td>2020-02-29</td>\n",
       "      <td>NaT</td>\n",
       "      <td>NaN</td>\n",
       "      <td>NaN</td>\n",
       "      <td>NaN</td>\n",
       "      <td>NaN</td>\n",
       "      <td>NaN</td>\n",
       "      <td>NaN</td>\n",
       "    </tr>\n",
       "  </tbody>\n",
       "</table>\n",
       "</div>"
      ],
      "text/plain": [
       "     countryCode firstName  lastName              traderId stockSymbol  \\\n",
       "6.0           NZ  Brittany   Herring  pjjFIyeNTWRUWCuKoQSU        AMZN   \n",
       "33.0          KZ     Vicki   Burgess  deTclcaRrihIYAUADJPN        AMZN   \n",
       "14.0          TN      Tony   Hoffman  vHakrmHtTDvuKvIcxniB        AMZN   \n",
       "34.0          BT   Allison     Davis  TzqyQTQjZGeLZuJqlLaQ        AMZN   \n",
       "NaN           MK     Scott  Thompson  sjAcfZksMRViIYdJRrnF        AMZN   \n",
       "\n",
       "     stockName      tradeId        price  volume       tradeDatetime  \\\n",
       "6.0     Amazon  U9-4261680I  2351.144500   154.0 2020-02-10 17:42:11   \n",
       "33.0    Amazon  C7-0894722J  1809.000000   156.0 2020-03-19 05:12:18   \n",
       "14.0    Amazon   Z0-494338r  1901.210337    77.0 2020-02-21 14:13:00   \n",
       "34.0    Amazon    g2-90716Y  1779.637800   148.0 2020-03-20 20:55:57   \n",
       "NaN     Amazon  F0-4606780P  2403.190000   175.0 2020-02-29 21:32:35   \n",
       "\n",
       "      tradeDate       Date         High          Low         Open  \\\n",
       "6.0  2020-02-10 2020-02-10  2135.600098  2084.959961  2085.010010   \n",
       "33.0 2020-03-19 2020-03-19  1945.000000  1832.650024  1860.000000   \n",
       "14.0 2020-02-21 2020-02-21  2144.550049  2088.000000  2142.149902   \n",
       "34.0 2020-03-20 2020-03-20  1957.000000  1820.729980  1926.310059   \n",
       "NaN  2020-02-29        NaT          NaN          NaN          NaN   \n",
       "\n",
       "            Close      Volume    Adj Close  \n",
       "6.0   2133.909912   5056200.0  2133.909912  \n",
       "33.0  1880.930054  10399900.0  1880.930054  \n",
       "14.0  2095.969971   4646300.0  2095.969971  \n",
       "34.0  1846.089966   9817900.0  1846.089966  \n",
       "NaN           NaN         NaN          NaN  "
      ]
     },
     "execution_count": 45,
     "metadata": {},
     "output_type": "execute_result"
    }
   ],
   "source": [
    "merge_data.head()"
   ]
  },
  {
   "cell_type": "markdown",
   "metadata": {},
   "source": [
    "# Logic to find fraud trading"
   ]
  },
  {
   "cell_type": "code",
   "execution_count": 46,
   "metadata": {},
   "outputs": [],
   "source": [
    "# Define function to find fraud traders\n",
    "def find_fraud_trader(df):\n",
    "    '''\n",
    "    Returns the trader dataset with label 'suspicious' to find whether trade is fraud or genue.\n",
    "    \n",
    "    To be a suspicious trade consider the following rules:\n",
    "    - The trader has submitted an order above the high price/below the low price for a given day of a stock.\n",
    "    - The trader has submitted an order in a date when the stock was not traded.\n",
    "\n",
    "    Parameters:\n",
    "        df (dataframe):The trader data which is to be labelled.\n",
    "       \n",
    "    Returns:\n",
    "        The trader dataframe with label 'suspicious'. \n",
    "        If suspicious is true, means its a fraud trader else genue trader.  \n",
    "    '''\n",
    "    # By default make all rows as fraud trading, then apply logic and update the label.\n",
    "    df['suspicious'] = True\n",
    "    df['suspicious'] = df.apply(lambda row:True \n",
    "                                            if(pd.isnull(row['High']) | (row['price'] > row['High']) | (row['price'] < row['Low']))\n",
    "                                            else False, axis=1)\n",
    "    \n",
    "    return df"
   ]
  },
  {
   "cell_type": "code",
   "execution_count": 47,
   "metadata": {},
   "outputs": [
    {
     "name": "stdout",
     "output_type": "stream",
     "text": [
      "\n",
      "    Returns the trader dataset with label 'suspicious' to find whether trade is fraud or genue.\n",
      "    \n",
      "    To be a suspicious trade consider the following rules:\n",
      "    - The trader has submitted an order above the high price/below the low price for a given day of a stock.\n",
      "    - The trader has submitted an order in a date when the stock was not traded.\n",
      "\n",
      "    Parameters:\n",
      "        df (dataframe):The trader data which is to be labelled.\n",
      "       \n",
      "    Returns:\n",
      "        The trader dataframe with label 'suspicious'. \n",
      "        If suspicious is true, means its a fraud trader else genue trader.  \n",
      "    \n"
     ]
    }
   ],
   "source": [
    "# Print docstrings of method \n",
    "print(find_fraud_trader.__doc__)"
   ]
  },
  {
   "cell_type": "code",
   "execution_count": 48,
   "metadata": {},
   "outputs": [],
   "source": [
    "merge_data = find_fraud_trader(merge_data)"
   ]
  },
  {
   "cell_type": "code",
   "execution_count": 49,
   "metadata": {},
   "outputs": [
    {
     "name": "stdout",
     "output_type": "stream",
     "text": [
      "Number of trading :  55\n",
      "Number of suspicious trading :  51\n",
      "Number of genuine trading :  4\n"
     ]
    }
   ],
   "source": [
    "print(\"Number of trading : \",merge_data.shape[0])\n",
    "print(\"Number of suspicious trading : \",merge_data[merge_data['suspicious']==True].shape[0])\n",
    "print(\"Number of genuine trading : \",merge_data[merge_data['suspicious']==False].shape[0])"
   ]
  },
  {
   "cell_type": "code",
   "execution_count": 50,
   "metadata": {},
   "outputs": [
    {
     "data": {
      "text/plain": [
       "Index(['countryCode', 'firstName', 'lastName', 'traderId', 'stockSymbol',\n",
       "       'stockName', 'tradeId', 'price', 'volume', 'tradeDatetime', 'tradeDate',\n",
       "       'Date', 'High', 'Low', 'Open', 'Close', 'Volume', 'Adj Close',\n",
       "       'suspicious'],\n",
       "      dtype='object')"
      ]
     },
     "execution_count": 50,
     "metadata": {},
     "output_type": "execute_result"
    }
   ],
   "source": [
    "merge_data.columns"
   ]
  },
  {
   "cell_type": "code",
   "execution_count": 51,
   "metadata": {},
   "outputs": [
    {
     "data": {
      "text/html": [
       "<div>\n",
       "<style scoped>\n",
       "    .dataframe tbody tr th:only-of-type {\n",
       "        vertical-align: middle;\n",
       "    }\n",
       "\n",
       "    .dataframe tbody tr th {\n",
       "        vertical-align: top;\n",
       "    }\n",
       "\n",
       "    .dataframe thead th {\n",
       "        text-align: right;\n",
       "    }\n",
       "</style>\n",
       "<table border=\"1\" class=\"dataframe\">\n",
       "  <thead>\n",
       "    <tr style=\"text-align: right;\">\n",
       "      <th></th>\n",
       "      <th>countryCode</th>\n",
       "      <th>firstName</th>\n",
       "      <th>lastName</th>\n",
       "      <th>traderId</th>\n",
       "      <th>stockSymbol</th>\n",
       "      <th>stockName</th>\n",
       "      <th>tradeId</th>\n",
       "      <th>price</th>\n",
       "      <th>volume</th>\n",
       "      <th>tradeDatetime</th>\n",
       "      <th>tradeDate</th>\n",
       "      <th>Date</th>\n",
       "      <th>High</th>\n",
       "      <th>Low</th>\n",
       "      <th>Open</th>\n",
       "      <th>Close</th>\n",
       "      <th>Volume</th>\n",
       "      <th>Adj Close</th>\n",
       "      <th>suspicious</th>\n",
       "    </tr>\n",
       "  </thead>\n",
       "  <tbody>\n",
       "    <tr>\n",
       "      <th>6.0</th>\n",
       "      <td>NZ</td>\n",
       "      <td>Brittany</td>\n",
       "      <td>Herring</td>\n",
       "      <td>pjjFIyeNTWRUWCuKoQSU</td>\n",
       "      <td>AMZN</td>\n",
       "      <td>Amazon</td>\n",
       "      <td>U9-4261680I</td>\n",
       "      <td>2351.1445</td>\n",
       "      <td>154.0</td>\n",
       "      <td>2020-02-10 17:42:11</td>\n",
       "      <td>2020-02-10</td>\n",
       "      <td>2020-02-10</td>\n",
       "      <td>2135.600098</td>\n",
       "      <td>2084.959961</td>\n",
       "      <td>2085.01001</td>\n",
       "      <td>2133.909912</td>\n",
       "      <td>5056200.0</td>\n",
       "      <td>2133.909912</td>\n",
       "      <td>True</td>\n",
       "    </tr>\n",
       "    <tr>\n",
       "      <th>32.0</th>\n",
       "      <td>NZ</td>\n",
       "      <td>Brittany</td>\n",
       "      <td>Herring</td>\n",
       "      <td>pjjFIyeNTWRUWCuKoQSU</td>\n",
       "      <td>AMZN</td>\n",
       "      <td>Amazon</td>\n",
       "      <td>Y5-6456126O</td>\n",
       "      <td>2182.7000</td>\n",
       "      <td>171.0</td>\n",
       "      <td>2020-03-18 21:07:36</td>\n",
       "      <td>2020-03-18</td>\n",
       "      <td>2020-03-18</td>\n",
       "      <td>1841.660034</td>\n",
       "      <td>1745.000000</td>\n",
       "      <td>1750.00000</td>\n",
       "      <td>1830.000000</td>\n",
       "      <td>9645200.0</td>\n",
       "      <td>1830.000000</td>\n",
       "      <td>True</td>\n",
       "    </tr>\n",
       "    <tr>\n",
       "      <th>NaN</th>\n",
       "      <td>NZ</td>\n",
       "      <td>Brittany</td>\n",
       "      <td>Herring</td>\n",
       "      <td>pjjFIyeNTWRUWCuKoQSU</td>\n",
       "      <td>AMZN</td>\n",
       "      <td>Amazon</td>\n",
       "      <td>n8-8758476W</td>\n",
       "      <td>2209.0000</td>\n",
       "      <td>17.0</td>\n",
       "      <td>2020-02-02 17:38:52</td>\n",
       "      <td>2020-02-02</td>\n",
       "      <td>NaT</td>\n",
       "      <td>NaN</td>\n",
       "      <td>NaN</td>\n",
       "      <td>NaN</td>\n",
       "      <td>NaN</td>\n",
       "      <td>NaN</td>\n",
       "      <td>NaN</td>\n",
       "      <td>True</td>\n",
       "    </tr>\n",
       "    <tr>\n",
       "      <th>30.0</th>\n",
       "      <td>NZ</td>\n",
       "      <td>Brittany</td>\n",
       "      <td>Herring</td>\n",
       "      <td>pjjFIyeNTWRUWCuKoQSU</td>\n",
       "      <td>AMZN</td>\n",
       "      <td>Amazon</td>\n",
       "      <td>b1-1434938N</td>\n",
       "      <td>1792.6610</td>\n",
       "      <td>65.0</td>\n",
       "      <td>2020-03-16 07:19:46</td>\n",
       "      <td>2020-03-16</td>\n",
       "      <td>2020-03-16</td>\n",
       "      <td>1759.449951</td>\n",
       "      <td>1626.030029</td>\n",
       "      <td>1641.51001</td>\n",
       "      <td>1689.150024</td>\n",
       "      <td>8917300.0</td>\n",
       "      <td>1689.150024</td>\n",
       "      <td>True</td>\n",
       "    </tr>\n",
       "  </tbody>\n",
       "</table>\n",
       "</div>"
      ],
      "text/plain": [
       "     countryCode firstName lastName              traderId stockSymbol  \\\n",
       "6.0           NZ  Brittany  Herring  pjjFIyeNTWRUWCuKoQSU        AMZN   \n",
       "32.0          NZ  Brittany  Herring  pjjFIyeNTWRUWCuKoQSU        AMZN   \n",
       "NaN           NZ  Brittany  Herring  pjjFIyeNTWRUWCuKoQSU        AMZN   \n",
       "30.0          NZ  Brittany  Herring  pjjFIyeNTWRUWCuKoQSU        AMZN   \n",
       "\n",
       "     stockName      tradeId      price  volume       tradeDatetime  tradeDate  \\\n",
       "6.0     Amazon  U9-4261680I  2351.1445   154.0 2020-02-10 17:42:11 2020-02-10   \n",
       "32.0    Amazon  Y5-6456126O  2182.7000   171.0 2020-03-18 21:07:36 2020-03-18   \n",
       "NaN     Amazon  n8-8758476W  2209.0000    17.0 2020-02-02 17:38:52 2020-02-02   \n",
       "30.0    Amazon  b1-1434938N  1792.6610    65.0 2020-03-16 07:19:46 2020-03-16   \n",
       "\n",
       "           Date         High          Low        Open        Close     Volume  \\\n",
       "6.0  2020-02-10  2135.600098  2084.959961  2085.01001  2133.909912  5056200.0   \n",
       "32.0 2020-03-18  1841.660034  1745.000000  1750.00000  1830.000000  9645200.0   \n",
       "NaN         NaT          NaN          NaN         NaN          NaN        NaN   \n",
       "30.0 2020-03-16  1759.449951  1626.030029  1641.51001  1689.150024  8917300.0   \n",
       "\n",
       "        Adj Close  suspicious  \n",
       "6.0   2133.909912        True  \n",
       "32.0  1830.000000        True  \n",
       "NaN           NaN        True  \n",
       "30.0  1689.150024        True  "
      ]
     },
     "execution_count": 51,
     "metadata": {},
     "output_type": "execute_result"
    }
   ],
   "source": [
    "merge_data[merge_data['traderId'] == 'pjjFIyeNTWRUWCuKoQSU']"
   ]
  },
  {
   "cell_type": "code",
   "execution_count": 52,
   "metadata": {},
   "outputs": [],
   "source": [
    "# Rearrange and select necessary columns\n",
    "data_label = merge_data[['tradeDate','countryCode', 'firstName', 'lastName', 'traderId', 'stockSymbol',\n",
    "        'tradeId', 'price', 'volume', 'High', 'Low', 'Open', 'Close', 'Adj Close','suspicious']]"
   ]
  },
  {
   "cell_type": "code",
   "execution_count": 53,
   "metadata": {},
   "outputs": [
    {
     "data": {
      "text/plain": [
       "(55, 15)"
      ]
     },
     "execution_count": 53,
     "metadata": {},
     "output_type": "execute_result"
    }
   ],
   "source": [
    "# Rename columns to more appropriate\n",
    "data_label.rename(columns={'price': 'tradePrice','volume': 'tradeVolume',\n",
    "                           'high': 'stockHighPrice','low': 'stockLowPrice',\n",
    "                           'open': 'stockOpenPrice','close': 'stockClosePrice',\n",
    "                           'adj close': 'stockAdjClosePrice'}, inplace=True)\n",
    "data_label.shape"
   ]
  },
  {
   "cell_type": "code",
   "execution_count": 54,
   "metadata": {},
   "outputs": [
    {
     "data": {
      "text/plain": [
       "Index(['tradeDate', 'countryCode', 'firstName', 'lastName', 'traderId',\n",
       "       'stockSymbol', 'tradeId', 'tradePrice', 'tradeVolume', 'High', 'Low',\n",
       "       'Open', 'Close', 'Adj Close', 'suspicious'],\n",
       "      dtype='object')"
      ]
     },
     "execution_count": 54,
     "metadata": {},
     "output_type": "execute_result"
    }
   ],
   "source": [
    "data_label.columns"
   ]
  },
  {
   "cell_type": "markdown",
   "metadata": {},
   "source": [
    "## Saving final preprocessed data"
   ]
  },
  {
   "cell_type": "code",
   "execution_count": 55,
   "metadata": {},
   "outputs": [
    {
     "data": {
      "text/html": [
       "<div>\n",
       "<style scoped>\n",
       "    .dataframe tbody tr th:only-of-type {\n",
       "        vertical-align: middle;\n",
       "    }\n",
       "\n",
       "    .dataframe tbody tr th {\n",
       "        vertical-align: top;\n",
       "    }\n",
       "\n",
       "    .dataframe thead th {\n",
       "        text-align: right;\n",
       "    }\n",
       "</style>\n",
       "<table border=\"1\" class=\"dataframe\">\n",
       "  <thead>\n",
       "    <tr style=\"text-align: right;\">\n",
       "      <th></th>\n",
       "      <th>tradeDate</th>\n",
       "      <th>countryCode</th>\n",
       "      <th>firstName</th>\n",
       "      <th>lastName</th>\n",
       "      <th>traderId</th>\n",
       "      <th>stockSymbol</th>\n",
       "      <th>tradeId</th>\n",
       "      <th>tradePrice</th>\n",
       "      <th>tradeVolume</th>\n",
       "      <th>High</th>\n",
       "      <th>Low</th>\n",
       "      <th>Open</th>\n",
       "      <th>Close</th>\n",
       "      <th>Adj Close</th>\n",
       "      <th>suspicious</th>\n",
       "    </tr>\n",
       "  </thead>\n",
       "  <tbody>\n",
       "    <tr>\n",
       "      <th>6.0</th>\n",
       "      <td>2020-02-10</td>\n",
       "      <td>NZ</td>\n",
       "      <td>Brittany</td>\n",
       "      <td>Herring</td>\n",
       "      <td>pjjFIyeNTWRUWCuKoQSU</td>\n",
       "      <td>AMZN</td>\n",
       "      <td>U9-4261680I</td>\n",
       "      <td>2351.144500</td>\n",
       "      <td>154.0</td>\n",
       "      <td>2135.600098</td>\n",
       "      <td>2084.959961</td>\n",
       "      <td>2085.010010</td>\n",
       "      <td>2133.909912</td>\n",
       "      <td>2133.909912</td>\n",
       "      <td>True</td>\n",
       "    </tr>\n",
       "    <tr>\n",
       "      <th>33.0</th>\n",
       "      <td>2020-03-19</td>\n",
       "      <td>KZ</td>\n",
       "      <td>Vicki</td>\n",
       "      <td>Burgess</td>\n",
       "      <td>deTclcaRrihIYAUADJPN</td>\n",
       "      <td>AMZN</td>\n",
       "      <td>C7-0894722J</td>\n",
       "      <td>1809.000000</td>\n",
       "      <td>156.0</td>\n",
       "      <td>1945.000000</td>\n",
       "      <td>1832.650024</td>\n",
       "      <td>1860.000000</td>\n",
       "      <td>1880.930054</td>\n",
       "      <td>1880.930054</td>\n",
       "      <td>True</td>\n",
       "    </tr>\n",
       "    <tr>\n",
       "      <th>14.0</th>\n",
       "      <td>2020-02-21</td>\n",
       "      <td>TN</td>\n",
       "      <td>Tony</td>\n",
       "      <td>Hoffman</td>\n",
       "      <td>vHakrmHtTDvuKvIcxniB</td>\n",
       "      <td>AMZN</td>\n",
       "      <td>Z0-494338r</td>\n",
       "      <td>1901.210337</td>\n",
       "      <td>77.0</td>\n",
       "      <td>2144.550049</td>\n",
       "      <td>2088.000000</td>\n",
       "      <td>2142.149902</td>\n",
       "      <td>2095.969971</td>\n",
       "      <td>2095.969971</td>\n",
       "      <td>True</td>\n",
       "    </tr>\n",
       "  </tbody>\n",
       "</table>\n",
       "</div>"
      ],
      "text/plain": [
       "      tradeDate countryCode firstName lastName              traderId  \\\n",
       "6.0  2020-02-10          NZ  Brittany  Herring  pjjFIyeNTWRUWCuKoQSU   \n",
       "33.0 2020-03-19          KZ     Vicki  Burgess  deTclcaRrihIYAUADJPN   \n",
       "14.0 2020-02-21          TN      Tony  Hoffman  vHakrmHtTDvuKvIcxniB   \n",
       "\n",
       "     stockSymbol      tradeId   tradePrice  tradeVolume         High  \\\n",
       "6.0         AMZN  U9-4261680I  2351.144500        154.0  2135.600098   \n",
       "33.0        AMZN  C7-0894722J  1809.000000        156.0  1945.000000   \n",
       "14.0        AMZN   Z0-494338r  1901.210337         77.0  2144.550049   \n",
       "\n",
       "              Low         Open        Close    Adj Close  suspicious  \n",
       "6.0   2084.959961  2085.010010  2133.909912  2133.909912        True  \n",
       "33.0  1832.650024  1860.000000  1880.930054  1880.930054        True  \n",
       "14.0  2088.000000  2142.149902  2095.969971  2095.969971        True  "
      ]
     },
     "execution_count": 55,
     "metadata": {},
     "output_type": "execute_result"
    }
   ],
   "source": [
    "# Saving final preprocessed data\n",
    "SelectedColumns = ['tradeDate', 'countryCode', 'firstName', 'lastName', 'traderId',\n",
    "       'stockSymbol', 'tradeId', 'tradePrice', 'tradeVolume', 'High', 'Low',\n",
    "       'Open', 'Close', 'Adj Close', 'suspicious']\n",
    "\n",
    "# Selecting final columns\n",
    "marketDataLabel=data_label[SelectedColumns]\n",
    "marketDataLabel.head(3)"
   ]
  },
  {
   "cell_type": "code",
   "execution_count": 56,
   "metadata": {},
   "outputs": [],
   "source": [
    "# Saving this final data for reference during deployment\n",
    "marketDataLabel.to_pickle('marketDataLabel.pkl')"
   ]
  },
  {
   "cell_type": "markdown",
   "metadata": {},
   "source": [
    "### Count unique values of suspicious"
   ]
  },
  {
   "cell_type": "code",
   "execution_count": 57,
   "metadata": {},
   "outputs": [
    {
     "name": "stdout",
     "output_type": "stream",
     "text": [
      "True     51\n",
      "False     4\n",
      "Name: suspicious, dtype: int64\n",
      "\n",
      "\n",
      "True     0.927273\n",
      "False    0.072727\n",
      "Name: suspicious, dtype: float64\n"
     ]
    }
   ],
   "source": [
    "print(data_label['suspicious'].value_counts())\n",
    "print('\\n')\n",
    "print(data_label['suspicious'].value_counts(normalize=True))"
   ]
  },
  {
   "cell_type": "code",
   "execution_count": 58,
   "metadata": {},
   "outputs": [
    {
     "data": {
      "image/png": "[encoded data removed]",
      "text/plain": [
       "<Figure size 432x432 with 1 Axes>"
      ]
     },
     "metadata": {},
     "output_type": "display_data"
    }
   ],
   "source": [
    "# Plot Pie chart for suspicious vs genue trading distribution\n",
    "data_label[\"suspicious\"].value_counts().plot(kind = 'pie',explode=[0, 0.1],figsize=(6, 6),\n",
    "                                             autopct='%1.1f%%',shadow=True)\n",
    "plt.title(\"Suspicious and Non-suspicious Distribution\",fontsize=20)\n",
    "plt.legend([\"Suspicious\", \"Genuine\"])\n",
    "plt.show()"
   ]
  },
  {
   "cell_type": "markdown",
   "metadata": {},
   "source": [
    "**Hightlights**\n",
    "\n",
    "* About 92.7% trading are fraud and only 7.3% are genuine."
   ]
  },
  {
   "cell_type": "markdown",
   "metadata": {},
   "source": [
    "# Traders Suspicious analysis"
   ]
  },
  {
   "cell_type": "markdown",
   "metadata": {},
   "source": [
    "### Volume ratio of  Suspicious vs Genuine traders"
   ]
  },
  {
   "cell_type": "code",
   "execution_count": 59,
   "metadata": {},
   "outputs": [
    {
     "data": {
      "image/png": "[encoded data removed]",
      "text/plain": [
       "<Figure size 432x288 with 1 Axes>"
      ]
     },
     "metadata": {},
     "output_type": "display_data"
    }
   ],
   "source": [
    "# Checking volume ratio of trading for suspicious and genuine\n",
    "sns.barplot(x='suspicious', y='tradeVolume', data=data_label)\n",
    "plt.show()"
   ]
  },
  {
   "cell_type": "markdown",
   "metadata": {},
   "source": [
    "This shows that volumen of suspicious trading is than genuine trading."
   ]
  },
  {
   "cell_type": "markdown",
   "metadata": {},
   "source": [
    "### Price ratio of Suspicious vs Genuine traders"
   ]
  },
  {
   "cell_type": "code",
   "execution_count": 60,
   "metadata": {},
   "outputs": [
    {
     "data": {
      "text/plain": [
       "<matplotlib.axes._subplots.AxesSubplot at 0x7f0dba334d60>"
      ]
     },
     "execution_count": 60,
     "metadata": {},
     "output_type": "execute_result"
    },
    {
     "data": {
      "image/png": "[encoded data removed]",
      "text/plain": [
       "<Figure size 432x288 with 1 Axes>"
      ]
     },
     "metadata": {},
     "output_type": "display_data"
    }
   ],
   "source": [
    "# Checking price ratio of trading for suspicious and genuine\n",
    "sns.barplot(x='suspicious', y='tradePrice', data=data_label)"
   ]
  },
  {
   "cell_type": "markdown",
   "metadata": {},
   "source": [
    "Average price of trading is towards suspicious trading."
   ]
  },
  {
   "cell_type": "markdown",
   "metadata": {},
   "source": [
    "## Top Fraud Traders"
   ]
  },
  {
   "cell_type": "code",
   "execution_count": 61,
   "metadata": {},
   "outputs": [
    {
     "data": {
      "text/plain": [
       "(51, 15)"
      ]
     },
     "execution_count": 61,
     "metadata": {},
     "output_type": "execute_result"
    }
   ],
   "source": [
    "# Filter to only fraud data\n",
    "fraud_data = data_label[data_label['suspicious']==True]\n",
    "fraud_data.shape"
   ]
  },
  {
   "cell_type": "code",
   "execution_count": 62,
   "metadata": {},
   "outputs": [
    {
     "data": {
      "text/plain": [
       "sjAcfZksMRViIYdJRrnF    5\n",
       "wsdSKUxJgukcXlhktChZ    4\n",
       "JyfwFVYySnPCaLuQIazT    4\n",
       "pjjFIyeNTWRUWCuKoQSU    4\n",
       "xIZVPeFzGRmMglPrQfhK    4\n",
       "BJbHFDutYbbXjgkPWbwf    4\n",
       "RNvnAvOpyEVAoNGnVZQU    4\n",
       "MUVGtYHdeMdauAxzEJvt    3\n",
       "HToYfSueoxPSgBHsToac    3\n",
       "vDAqsRnDaMrcomXsosXG    3\n",
       "TzqyQTQjZGeLZuJqlLaQ    2\n",
       "puCpymcjBdurvfVyRYry    2\n",
       "WVcMKILUHtBkEahrPLrG    2\n",
       "jDmYPxeqAWfCKCQCYFEx    2\n",
       "deTclcaRrihIYAUADJPN    2\n",
       "goRcbvzSLJhZvFucyhbG    2\n",
       "vHakrmHtTDvuKvIcxniB    1\n",
       "Name: traderId, dtype: int64"
      ]
     },
     "execution_count": 62,
     "metadata": {},
     "output_type": "execute_result"
    }
   ],
   "source": [
    "fraud_data['traderId'].value_counts()"
   ]
  },
  {
   "cell_type": "code",
   "execution_count": 63,
   "metadata": {},
   "outputs": [
    {
     "data": {
      "text/plain": [
       "Index(['tradeDate', 'countryCode', 'firstName', 'lastName', 'traderId',\n",
       "       'stockSymbol', 'tradeId', 'tradePrice', 'tradeVolume', 'High', 'Low',\n",
       "       'Open', 'Close', 'Adj Close', 'suspicious'],\n",
       "      dtype='object')"
      ]
     },
     "execution_count": 63,
     "metadata": {},
     "output_type": "execute_result"
    }
   ],
   "source": [
    "fraud_data.columns"
   ]
  },
  {
   "cell_type": "code",
   "execution_count": 64,
   "metadata": {},
   "outputs": [
    {
     "data": {
      "text/html": [
       "<div>\n",
       "<style scoped>\n",
       "    .dataframe tbody tr th:only-of-type {\n",
       "        vertical-align: middle;\n",
       "    }\n",
       "\n",
       "    .dataframe tbody tr th {\n",
       "        vertical-align: top;\n",
       "    }\n",
       "\n",
       "    .dataframe thead th {\n",
       "        text-align: right;\n",
       "    }\n",
       "</style>\n",
       "<table border=\"1\" class=\"dataframe\">\n",
       "  <thead>\n",
       "    <tr style=\"text-align: right;\">\n",
       "      <th></th>\n",
       "      <th>traderId</th>\n",
       "      <th>firstName</th>\n",
       "      <th>lastName</th>\n",
       "      <th>countryCode</th>\n",
       "    </tr>\n",
       "  </thead>\n",
       "  <tbody>\n",
       "    <tr>\n",
       "      <th>0</th>\n",
       "      <td>pjjFIyeNTWRUWCuKoQSU</td>\n",
       "      <td>Brittany</td>\n",
       "      <td>Herring</td>\n",
       "      <td>NZ</td>\n",
       "    </tr>\n",
       "    <tr>\n",
       "      <th>1</th>\n",
       "      <td>deTclcaRrihIYAUADJPN</td>\n",
       "      <td>Vicki</td>\n",
       "      <td>Burgess</td>\n",
       "      <td>KZ</td>\n",
       "    </tr>\n",
       "    <tr>\n",
       "      <th>2</th>\n",
       "      <td>vHakrmHtTDvuKvIcxniB</td>\n",
       "      <td>Tony</td>\n",
       "      <td>Hoffman</td>\n",
       "      <td>TN</td>\n",
       "    </tr>\n",
       "    <tr>\n",
       "      <th>3</th>\n",
       "      <td>TzqyQTQjZGeLZuJqlLaQ</td>\n",
       "      <td>Allison</td>\n",
       "      <td>Davis</td>\n",
       "      <td>BT</td>\n",
       "    </tr>\n",
       "    <tr>\n",
       "      <th>4</th>\n",
       "      <td>sjAcfZksMRViIYdJRrnF</td>\n",
       "      <td>Scott</td>\n",
       "      <td>Thompson</td>\n",
       "      <td>MK</td>\n",
       "    </tr>\n",
       "    <tr>\n",
       "      <th>5</th>\n",
       "      <td>wsdSKUxJgukcXlhktChZ</td>\n",
       "      <td>Tonya</td>\n",
       "      <td>Hernandez</td>\n",
       "      <td>KP</td>\n",
       "    </tr>\n",
       "    <tr>\n",
       "      <th>6</th>\n",
       "      <td>WVcMKILUHtBkEahrPLrG</td>\n",
       "      <td>Blake</td>\n",
       "      <td>Martin</td>\n",
       "      <td>SZ</td>\n",
       "    </tr>\n",
       "    <tr>\n",
       "      <th>7</th>\n",
       "      <td>JyfwFVYySnPCaLuQIazT</td>\n",
       "      <td>John</td>\n",
       "      <td>Nguyen</td>\n",
       "      <td>KM</td>\n",
       "    </tr>\n",
       "    <tr>\n",
       "      <th>8</th>\n",
       "      <td>BJbHFDutYbbXjgkPWbwf</td>\n",
       "      <td>Jordan</td>\n",
       "      <td>Walker</td>\n",
       "      <td>RU</td>\n",
       "    </tr>\n",
       "    <tr>\n",
       "      <th>9</th>\n",
       "      <td>HToYfSueoxPSgBHsToac</td>\n",
       "      <td>Erin</td>\n",
       "      <td>Grant</td>\n",
       "      <td>LC</td>\n",
       "    </tr>\n",
       "    <tr>\n",
       "      <th>10</th>\n",
       "      <td>vDAqsRnDaMrcomXsosXG</td>\n",
       "      <td>Christine</td>\n",
       "      <td>Baldwin</td>\n",
       "      <td>JP</td>\n",
       "    </tr>\n",
       "    <tr>\n",
       "      <th>11</th>\n",
       "      <td>puCpymcjBdurvfVyRYry</td>\n",
       "      <td>Holly</td>\n",
       "      <td>Simmons</td>\n",
       "      <td>GT</td>\n",
       "    </tr>\n",
       "    <tr>\n",
       "      <th>12</th>\n",
       "      <td>xIZVPeFzGRmMglPrQfhK</td>\n",
       "      <td>Brandon</td>\n",
       "      <td>Berry</td>\n",
       "      <td>LA</td>\n",
       "    </tr>\n",
       "    <tr>\n",
       "      <th>13</th>\n",
       "      <td>goRcbvzSLJhZvFucyhbG</td>\n",
       "      <td>Crystal</td>\n",
       "      <td>Garcia</td>\n",
       "      <td>NG</td>\n",
       "    </tr>\n",
       "    <tr>\n",
       "      <th>14</th>\n",
       "      <td>RNvnAvOpyEVAoNGnVZQU</td>\n",
       "      <td>Kyle</td>\n",
       "      <td>Blair</td>\n",
       "      <td>GD</td>\n",
       "    </tr>\n",
       "    <tr>\n",
       "      <th>15</th>\n",
       "      <td>jDmYPxeqAWfCKCQCYFEx</td>\n",
       "      <td>Caitlyn</td>\n",
       "      <td>Cruz</td>\n",
       "      <td>NZ</td>\n",
       "    </tr>\n",
       "    <tr>\n",
       "      <th>16</th>\n",
       "      <td>MUVGtYHdeMdauAxzEJvt</td>\n",
       "      <td>Vanessa</td>\n",
       "      <td>Green</td>\n",
       "      <td>TV</td>\n",
       "    </tr>\n",
       "  </tbody>\n",
       "</table>\n",
       "</div>"
      ],
      "text/plain": [
       "                traderId  firstName   lastName countryCode\n",
       "0   pjjFIyeNTWRUWCuKoQSU   Brittany    Herring          NZ\n",
       "1   deTclcaRrihIYAUADJPN      Vicki    Burgess          KZ\n",
       "2   vHakrmHtTDvuKvIcxniB       Tony    Hoffman          TN\n",
       "3   TzqyQTQjZGeLZuJqlLaQ    Allison      Davis          BT\n",
       "4   sjAcfZksMRViIYdJRrnF      Scott   Thompson          MK\n",
       "5   wsdSKUxJgukcXlhktChZ      Tonya  Hernandez          KP\n",
       "6   WVcMKILUHtBkEahrPLrG      Blake     Martin          SZ\n",
       "7   JyfwFVYySnPCaLuQIazT       John     Nguyen          KM\n",
       "8   BJbHFDutYbbXjgkPWbwf     Jordan     Walker          RU\n",
       "9   HToYfSueoxPSgBHsToac       Erin      Grant          LC\n",
       "10  vDAqsRnDaMrcomXsosXG  Christine    Baldwin          JP\n",
       "11  puCpymcjBdurvfVyRYry      Holly    Simmons          GT\n",
       "12  xIZVPeFzGRmMglPrQfhK    Brandon      Berry          LA\n",
       "13  goRcbvzSLJhZvFucyhbG    Crystal     Garcia          NG\n",
       "14  RNvnAvOpyEVAoNGnVZQU       Kyle      Blair          GD\n",
       "15  jDmYPxeqAWfCKCQCYFEx    Caitlyn       Cruz          NZ\n",
       "16  MUVGtYHdeMdauAxzEJvt    Vanessa      Green          TV"
      ]
     },
     "execution_count": 64,
     "metadata": {},
     "output_type": "execute_result"
    }
   ],
   "source": [
    "# Finding frequency of each fraud trader\n",
    "freq_fraud_data = fraud_data[['traderId','firstName', 'lastName','countryCode']]\n",
    "freq_fraud_data.drop_duplicates(inplace=True)\n",
    "\n",
    "# freq_fraud_data = fraud_data.groupby(['traderId','firstName', 'lastName']).count()\n",
    "# # freq_fraud_data = freq_fraud_data[['traderId','firstName', 'lastName','countryCode', ]].reset_index(drop=True)\n",
    "freq_fraud_data.reset_index(drop=True)"
   ]
  },
  {
   "cell_type": "code",
   "execution_count": 65,
   "metadata": {},
   "outputs": [
    {
     "data": {
      "text/html": [
       "<div>\n",
       "<style scoped>\n",
       "    .dataframe tbody tr th:only-of-type {\n",
       "        vertical-align: middle;\n",
       "    }\n",
       "\n",
       "    .dataframe tbody tr th {\n",
       "        vertical-align: top;\n",
       "    }\n",
       "\n",
       "    .dataframe thead th {\n",
       "        text-align: right;\n",
       "    }\n",
       "</style>\n",
       "<table border=\"1\" class=\"dataframe\">\n",
       "  <thead>\n",
       "    <tr style=\"text-align: right;\">\n",
       "      <th></th>\n",
       "      <th>traderId</th>\n",
       "      <th>firstName</th>\n",
       "      <th>lastName</th>\n",
       "      <th>countryCode</th>\n",
       "      <th>traderFreq</th>\n",
       "    </tr>\n",
       "  </thead>\n",
       "  <tbody>\n",
       "    <tr>\n",
       "      <th>4</th>\n",
       "      <td>sjAcfZksMRViIYdJRrnF</td>\n",
       "      <td>Scott</td>\n",
       "      <td>Thompson</td>\n",
       "      <td>MK</td>\n",
       "      <td>5</td>\n",
       "    </tr>\n",
       "    <tr>\n",
       "      <th>0</th>\n",
       "      <td>pjjFIyeNTWRUWCuKoQSU</td>\n",
       "      <td>Brittany</td>\n",
       "      <td>Herring</td>\n",
       "      <td>NZ</td>\n",
       "      <td>4</td>\n",
       "    </tr>\n",
       "    <tr>\n",
       "      <th>7</th>\n",
       "      <td>JyfwFVYySnPCaLuQIazT</td>\n",
       "      <td>John</td>\n",
       "      <td>Nguyen</td>\n",
       "      <td>KM</td>\n",
       "      <td>4</td>\n",
       "    </tr>\n",
       "    <tr>\n",
       "      <th>14</th>\n",
       "      <td>RNvnAvOpyEVAoNGnVZQU</td>\n",
       "      <td>Kyle</td>\n",
       "      <td>Blair</td>\n",
       "      <td>GD</td>\n",
       "      <td>4</td>\n",
       "    </tr>\n",
       "    <tr>\n",
       "      <th>12</th>\n",
       "      <td>xIZVPeFzGRmMglPrQfhK</td>\n",
       "      <td>Brandon</td>\n",
       "      <td>Berry</td>\n",
       "      <td>LA</td>\n",
       "      <td>4</td>\n",
       "    </tr>\n",
       "    <tr>\n",
       "      <th>8</th>\n",
       "      <td>BJbHFDutYbbXjgkPWbwf</td>\n",
       "      <td>Jordan</td>\n",
       "      <td>Walker</td>\n",
       "      <td>RU</td>\n",
       "      <td>4</td>\n",
       "    </tr>\n",
       "    <tr>\n",
       "      <th>5</th>\n",
       "      <td>wsdSKUxJgukcXlhktChZ</td>\n",
       "      <td>Tonya</td>\n",
       "      <td>Hernandez</td>\n",
       "      <td>KP</td>\n",
       "      <td>4</td>\n",
       "    </tr>\n",
       "    <tr>\n",
       "      <th>9</th>\n",
       "      <td>HToYfSueoxPSgBHsToac</td>\n",
       "      <td>Erin</td>\n",
       "      <td>Grant</td>\n",
       "      <td>LC</td>\n",
       "      <td>3</td>\n",
       "    </tr>\n",
       "    <tr>\n",
       "      <th>10</th>\n",
       "      <td>vDAqsRnDaMrcomXsosXG</td>\n",
       "      <td>Christine</td>\n",
       "      <td>Baldwin</td>\n",
       "      <td>JP</td>\n",
       "      <td>3</td>\n",
       "    </tr>\n",
       "    <tr>\n",
       "      <th>16</th>\n",
       "      <td>MUVGtYHdeMdauAxzEJvt</td>\n",
       "      <td>Vanessa</td>\n",
       "      <td>Green</td>\n",
       "      <td>TV</td>\n",
       "      <td>3</td>\n",
       "    </tr>\n",
       "    <tr>\n",
       "      <th>6</th>\n",
       "      <td>WVcMKILUHtBkEahrPLrG</td>\n",
       "      <td>Blake</td>\n",
       "      <td>Martin</td>\n",
       "      <td>SZ</td>\n",
       "      <td>2</td>\n",
       "    </tr>\n",
       "    <tr>\n",
       "      <th>1</th>\n",
       "      <td>deTclcaRrihIYAUADJPN</td>\n",
       "      <td>Vicki</td>\n",
       "      <td>Burgess</td>\n",
       "      <td>KZ</td>\n",
       "      <td>2</td>\n",
       "    </tr>\n",
       "    <tr>\n",
       "      <th>11</th>\n",
       "      <td>puCpymcjBdurvfVyRYry</td>\n",
       "      <td>Holly</td>\n",
       "      <td>Simmons</td>\n",
       "      <td>GT</td>\n",
       "      <td>2</td>\n",
       "    </tr>\n",
       "    <tr>\n",
       "      <th>3</th>\n",
       "      <td>TzqyQTQjZGeLZuJqlLaQ</td>\n",
       "      <td>Allison</td>\n",
       "      <td>Davis</td>\n",
       "      <td>BT</td>\n",
       "      <td>2</td>\n",
       "    </tr>\n",
       "    <tr>\n",
       "      <th>13</th>\n",
       "      <td>goRcbvzSLJhZvFucyhbG</td>\n",
       "      <td>Crystal</td>\n",
       "      <td>Garcia</td>\n",
       "      <td>NG</td>\n",
       "      <td>2</td>\n",
       "    </tr>\n",
       "    <tr>\n",
       "      <th>15</th>\n",
       "      <td>jDmYPxeqAWfCKCQCYFEx</td>\n",
       "      <td>Caitlyn</td>\n",
       "      <td>Cruz</td>\n",
       "      <td>NZ</td>\n",
       "      <td>2</td>\n",
       "    </tr>\n",
       "    <tr>\n",
       "      <th>2</th>\n",
       "      <td>vHakrmHtTDvuKvIcxniB</td>\n",
       "      <td>Tony</td>\n",
       "      <td>Hoffman</td>\n",
       "      <td>TN</td>\n",
       "      <td>1</td>\n",
       "    </tr>\n",
       "  </tbody>\n",
       "</table>\n",
       "</div>"
      ],
      "text/plain": [
       "                traderId  firstName   lastName countryCode  traderFreq\n",
       "4   sjAcfZksMRViIYdJRrnF      Scott   Thompson          MK           5\n",
       "0   pjjFIyeNTWRUWCuKoQSU   Brittany    Herring          NZ           4\n",
       "7   JyfwFVYySnPCaLuQIazT       John     Nguyen          KM           4\n",
       "14  RNvnAvOpyEVAoNGnVZQU       Kyle      Blair          GD           4\n",
       "12  xIZVPeFzGRmMglPrQfhK    Brandon      Berry          LA           4\n",
       "8   BJbHFDutYbbXjgkPWbwf     Jordan     Walker          RU           4\n",
       "5   wsdSKUxJgukcXlhktChZ      Tonya  Hernandez          KP           4\n",
       "9   HToYfSueoxPSgBHsToac       Erin      Grant          LC           3\n",
       "10  vDAqsRnDaMrcomXsosXG  Christine    Baldwin          JP           3\n",
       "16  MUVGtYHdeMdauAxzEJvt    Vanessa      Green          TV           3\n",
       "6   WVcMKILUHtBkEahrPLrG      Blake     Martin          SZ           2\n",
       "1   deTclcaRrihIYAUADJPN      Vicki    Burgess          KZ           2\n",
       "11  puCpymcjBdurvfVyRYry      Holly    Simmons          GT           2\n",
       "3   TzqyQTQjZGeLZuJqlLaQ    Allison      Davis          BT           2\n",
       "13  goRcbvzSLJhZvFucyhbG    Crystal     Garcia          NG           2\n",
       "15  jDmYPxeqAWfCKCQCYFEx    Caitlyn       Cruz          NZ           2\n",
       "2   vHakrmHtTDvuKvIcxniB       Tony    Hoffman          TN           1"
      ]
     },
     "execution_count": 65,
     "metadata": {},
     "output_type": "execute_result"
    }
   ],
   "source": [
    "# Finding frequency of each fraud trader\n",
    "traderFreq = fraud_data.groupby(['traderId'])['traderId'].count()\n",
    "traderFreq = pd.DataFrame({'traderId':traderFreq.index, 'traderFreq':traderFreq.values}).reset_index(drop=True)\n",
    "\n",
    "# Merge two dataframes based on patient's ids.\n",
    "freq_fraud_data = pd.merge(freq_fraud_data,traderFreq,how='inner',on='traderId')\n",
    "\n",
    "freq_fraud_data.sort_values(by='traderFreq', ascending=False)"
   ]
  },
  {
   "cell_type": "markdown",
   "metadata": {},
   "source": [
    "## Top Fraud Countries"
   ]
  },
  {
   "cell_type": "code",
   "execution_count": 66,
   "metadata": {},
   "outputs": [
    {
     "data": {
      "text/html": [
       "<div>\n",
       "<style scoped>\n",
       "    .dataframe tbody tr th:only-of-type {\n",
       "        vertical-align: middle;\n",
       "    }\n",
       "\n",
       "    .dataframe tbody tr th {\n",
       "        vertical-align: top;\n",
       "    }\n",
       "\n",
       "    .dataframe thead th {\n",
       "        text-align: right;\n",
       "    }\n",
       "</style>\n",
       "<table border=\"1\" class=\"dataframe\">\n",
       "  <thead>\n",
       "    <tr style=\"text-align: right;\">\n",
       "      <th></th>\n",
       "      <th>traderId</th>\n",
       "      <th>firstName</th>\n",
       "      <th>lastName</th>\n",
       "      <th>countryCode</th>\n",
       "      <th>traderFreq</th>\n",
       "      <th>countryFreq</th>\n",
       "    </tr>\n",
       "  </thead>\n",
       "  <tbody>\n",
       "    <tr>\n",
       "      <th>0</th>\n",
       "      <td>pjjFIyeNTWRUWCuKoQSU</td>\n",
       "      <td>Brittany</td>\n",
       "      <td>Herring</td>\n",
       "      <td>NZ</td>\n",
       "      <td>4</td>\n",
       "      <td>2</td>\n",
       "    </tr>\n",
       "    <tr>\n",
       "      <th>1</th>\n",
       "      <td>deTclcaRrihIYAUADJPN</td>\n",
       "      <td>Vicki</td>\n",
       "      <td>Burgess</td>\n",
       "      <td>KZ</td>\n",
       "      <td>2</td>\n",
       "      <td>1</td>\n",
       "    </tr>\n",
       "    <tr>\n",
       "      <th>2</th>\n",
       "      <td>vHakrmHtTDvuKvIcxniB</td>\n",
       "      <td>Tony</td>\n",
       "      <td>Hoffman</td>\n",
       "      <td>TN</td>\n",
       "      <td>1</td>\n",
       "      <td>1</td>\n",
       "    </tr>\n",
       "    <tr>\n",
       "      <th>3</th>\n",
       "      <td>TzqyQTQjZGeLZuJqlLaQ</td>\n",
       "      <td>Allison</td>\n",
       "      <td>Davis</td>\n",
       "      <td>BT</td>\n",
       "      <td>2</td>\n",
       "      <td>1</td>\n",
       "    </tr>\n",
       "    <tr>\n",
       "      <th>4</th>\n",
       "      <td>sjAcfZksMRViIYdJRrnF</td>\n",
       "      <td>Scott</td>\n",
       "      <td>Thompson</td>\n",
       "      <td>MK</td>\n",
       "      <td>5</td>\n",
       "      <td>1</td>\n",
       "    </tr>\n",
       "    <tr>\n",
       "      <th>5</th>\n",
       "      <td>wsdSKUxJgukcXlhktChZ</td>\n",
       "      <td>Tonya</td>\n",
       "      <td>Hernandez</td>\n",
       "      <td>KP</td>\n",
       "      <td>4</td>\n",
       "      <td>1</td>\n",
       "    </tr>\n",
       "    <tr>\n",
       "      <th>6</th>\n",
       "      <td>WVcMKILUHtBkEahrPLrG</td>\n",
       "      <td>Blake</td>\n",
       "      <td>Martin</td>\n",
       "      <td>SZ</td>\n",
       "      <td>2</td>\n",
       "      <td>1</td>\n",
       "    </tr>\n",
       "    <tr>\n",
       "      <th>7</th>\n",
       "      <td>JyfwFVYySnPCaLuQIazT</td>\n",
       "      <td>John</td>\n",
       "      <td>Nguyen</td>\n",
       "      <td>KM</td>\n",
       "      <td>4</td>\n",
       "      <td>1</td>\n",
       "    </tr>\n",
       "    <tr>\n",
       "      <th>8</th>\n",
       "      <td>BJbHFDutYbbXjgkPWbwf</td>\n",
       "      <td>Jordan</td>\n",
       "      <td>Walker</td>\n",
       "      <td>RU</td>\n",
       "      <td>4</td>\n",
       "      <td>1</td>\n",
       "    </tr>\n",
       "    <tr>\n",
       "      <th>9</th>\n",
       "      <td>HToYfSueoxPSgBHsToac</td>\n",
       "      <td>Erin</td>\n",
       "      <td>Grant</td>\n",
       "      <td>LC</td>\n",
       "      <td>3</td>\n",
       "      <td>1</td>\n",
       "    </tr>\n",
       "    <tr>\n",
       "      <th>10</th>\n",
       "      <td>vDAqsRnDaMrcomXsosXG</td>\n",
       "      <td>Christine</td>\n",
       "      <td>Baldwin</td>\n",
       "      <td>JP</td>\n",
       "      <td>3</td>\n",
       "      <td>1</td>\n",
       "    </tr>\n",
       "    <tr>\n",
       "      <th>11</th>\n",
       "      <td>puCpymcjBdurvfVyRYry</td>\n",
       "      <td>Holly</td>\n",
       "      <td>Simmons</td>\n",
       "      <td>GT</td>\n",
       "      <td>2</td>\n",
       "      <td>1</td>\n",
       "    </tr>\n",
       "    <tr>\n",
       "      <th>12</th>\n",
       "      <td>xIZVPeFzGRmMglPrQfhK</td>\n",
       "      <td>Brandon</td>\n",
       "      <td>Berry</td>\n",
       "      <td>LA</td>\n",
       "      <td>4</td>\n",
       "      <td>1</td>\n",
       "    </tr>\n",
       "    <tr>\n",
       "      <th>13</th>\n",
       "      <td>goRcbvzSLJhZvFucyhbG</td>\n",
       "      <td>Crystal</td>\n",
       "      <td>Garcia</td>\n",
       "      <td>NG</td>\n",
       "      <td>2</td>\n",
       "      <td>1</td>\n",
       "    </tr>\n",
       "    <tr>\n",
       "      <th>14</th>\n",
       "      <td>RNvnAvOpyEVAoNGnVZQU</td>\n",
       "      <td>Kyle</td>\n",
       "      <td>Blair</td>\n",
       "      <td>GD</td>\n",
       "      <td>4</td>\n",
       "      <td>1</td>\n",
       "    </tr>\n",
       "    <tr>\n",
       "      <th>15</th>\n",
       "      <td>jDmYPxeqAWfCKCQCYFEx</td>\n",
       "      <td>Caitlyn</td>\n",
       "      <td>Cruz</td>\n",
       "      <td>NZ</td>\n",
       "      <td>2</td>\n",
       "      <td>2</td>\n",
       "    </tr>\n",
       "    <tr>\n",
       "      <th>16</th>\n",
       "      <td>MUVGtYHdeMdauAxzEJvt</td>\n",
       "      <td>Vanessa</td>\n",
       "      <td>Green</td>\n",
       "      <td>TV</td>\n",
       "      <td>3</td>\n",
       "      <td>1</td>\n",
       "    </tr>\n",
       "  </tbody>\n",
       "</table>\n",
       "</div>"
      ],
      "text/plain": [
       "                traderId  firstName   lastName countryCode  traderFreq  \\\n",
       "0   pjjFIyeNTWRUWCuKoQSU   Brittany    Herring          NZ           4   \n",
       "1   deTclcaRrihIYAUADJPN      Vicki    Burgess          KZ           2   \n",
       "2   vHakrmHtTDvuKvIcxniB       Tony    Hoffman          TN           1   \n",
       "3   TzqyQTQjZGeLZuJqlLaQ    Allison      Davis          BT           2   \n",
       "4   sjAcfZksMRViIYdJRrnF      Scott   Thompson          MK           5   \n",
       "5   wsdSKUxJgukcXlhktChZ      Tonya  Hernandez          KP           4   \n",
       "6   WVcMKILUHtBkEahrPLrG      Blake     Martin          SZ           2   \n",
       "7   JyfwFVYySnPCaLuQIazT       John     Nguyen          KM           4   \n",
       "8   BJbHFDutYbbXjgkPWbwf     Jordan     Walker          RU           4   \n",
       "9   HToYfSueoxPSgBHsToac       Erin      Grant          LC           3   \n",
       "10  vDAqsRnDaMrcomXsosXG  Christine    Baldwin          JP           3   \n",
       "11  puCpymcjBdurvfVyRYry      Holly    Simmons          GT           2   \n",
       "12  xIZVPeFzGRmMglPrQfhK    Brandon      Berry          LA           4   \n",
       "13  goRcbvzSLJhZvFucyhbG    Crystal     Garcia          NG           2   \n",
       "14  RNvnAvOpyEVAoNGnVZQU       Kyle      Blair          GD           4   \n",
       "15  jDmYPxeqAWfCKCQCYFEx    Caitlyn       Cruz          NZ           2   \n",
       "16  MUVGtYHdeMdauAxzEJvt    Vanessa      Green          TV           3   \n",
       "\n",
       "    countryFreq  \n",
       "0             2  \n",
       "1             1  \n",
       "2             1  \n",
       "3             1  \n",
       "4             1  \n",
       "5             1  \n",
       "6             1  \n",
       "7             1  \n",
       "8             1  \n",
       "9             1  \n",
       "10            1  \n",
       "11            1  \n",
       "12            1  \n",
       "13            1  \n",
       "14            1  \n",
       "15            2  \n",
       "16            1  "
      ]
     },
     "execution_count": 66,
     "metadata": {},
     "output_type": "execute_result"
    }
   ],
   "source": [
    "freq_fraud_data['countryFreq'] = freq_fraud_data.groupby('countryCode')['countryCode'].transform('count')\n",
    "freq_fraud_data"
   ]
  },
  {
   "cell_type": "markdown",
   "metadata": {},
   "source": [
    "## Trader rank by number of suspicious orders"
   ]
  },
  {
   "cell_type": "code",
   "execution_count": 67,
   "metadata": {},
   "outputs": [
    {
     "data": {
      "text/html": [
       "<div>\n",
       "<style scoped>\n",
       "    .dataframe tbody tr th:only-of-type {\n",
       "        vertical-align: middle;\n",
       "    }\n",
       "\n",
       "    .dataframe tbody tr th {\n",
       "        vertical-align: top;\n",
       "    }\n",
       "\n",
       "    .dataframe thead th {\n",
       "        text-align: right;\n",
       "    }\n",
       "</style>\n",
       "<table border=\"1\" class=\"dataframe\">\n",
       "  <thead>\n",
       "    <tr style=\"text-align: right;\">\n",
       "      <th></th>\n",
       "      <th>traderId</th>\n",
       "      <th>firstName</th>\n",
       "      <th>lastName</th>\n",
       "      <th>countryCode</th>\n",
       "      <th>traderFreq</th>\n",
       "      <th>countryFreq</th>\n",
       "      <th>traderRank</th>\n",
       "    </tr>\n",
       "  </thead>\n",
       "  <tbody>\n",
       "    <tr>\n",
       "      <th>4</th>\n",
       "      <td>sjAcfZksMRViIYdJRrnF</td>\n",
       "      <td>Scott</td>\n",
       "      <td>Thompson</td>\n",
       "      <td>MK</td>\n",
       "      <td>5</td>\n",
       "      <td>1</td>\n",
       "      <td>1.0</td>\n",
       "    </tr>\n",
       "    <tr>\n",
       "      <th>0</th>\n",
       "      <td>pjjFIyeNTWRUWCuKoQSU</td>\n",
       "      <td>Brittany</td>\n",
       "      <td>Herring</td>\n",
       "      <td>NZ</td>\n",
       "      <td>4</td>\n",
       "      <td>2</td>\n",
       "      <td>4.5</td>\n",
       "    </tr>\n",
       "    <tr>\n",
       "      <th>14</th>\n",
       "      <td>RNvnAvOpyEVAoNGnVZQU</td>\n",
       "      <td>Kyle</td>\n",
       "      <td>Blair</td>\n",
       "      <td>GD</td>\n",
       "      <td>4</td>\n",
       "      <td>1</td>\n",
       "      <td>4.5</td>\n",
       "    </tr>\n",
       "    <tr>\n",
       "      <th>12</th>\n",
       "      <td>xIZVPeFzGRmMglPrQfhK</td>\n",
       "      <td>Brandon</td>\n",
       "      <td>Berry</td>\n",
       "      <td>LA</td>\n",
       "      <td>4</td>\n",
       "      <td>1</td>\n",
       "      <td>4.5</td>\n",
       "    </tr>\n",
       "    <tr>\n",
       "      <th>7</th>\n",
       "      <td>JyfwFVYySnPCaLuQIazT</td>\n",
       "      <td>John</td>\n",
       "      <td>Nguyen</td>\n",
       "      <td>KM</td>\n",
       "      <td>4</td>\n",
       "      <td>1</td>\n",
       "      <td>4.5</td>\n",
       "    </tr>\n",
       "    <tr>\n",
       "      <th>8</th>\n",
       "      <td>BJbHFDutYbbXjgkPWbwf</td>\n",
       "      <td>Jordan</td>\n",
       "      <td>Walker</td>\n",
       "      <td>RU</td>\n",
       "      <td>4</td>\n",
       "      <td>1</td>\n",
       "      <td>4.5</td>\n",
       "    </tr>\n",
       "    <tr>\n",
       "      <th>5</th>\n",
       "      <td>wsdSKUxJgukcXlhktChZ</td>\n",
       "      <td>Tonya</td>\n",
       "      <td>Hernandez</td>\n",
       "      <td>KP</td>\n",
       "      <td>4</td>\n",
       "      <td>1</td>\n",
       "      <td>4.5</td>\n",
       "    </tr>\n",
       "    <tr>\n",
       "      <th>9</th>\n",
       "      <td>HToYfSueoxPSgBHsToac</td>\n",
       "      <td>Erin</td>\n",
       "      <td>Grant</td>\n",
       "      <td>LC</td>\n",
       "      <td>3</td>\n",
       "      <td>1</td>\n",
       "      <td>9.0</td>\n",
       "    </tr>\n",
       "    <tr>\n",
       "      <th>10</th>\n",
       "      <td>vDAqsRnDaMrcomXsosXG</td>\n",
       "      <td>Christine</td>\n",
       "      <td>Baldwin</td>\n",
       "      <td>JP</td>\n",
       "      <td>3</td>\n",
       "      <td>1</td>\n",
       "      <td>9.0</td>\n",
       "    </tr>\n",
       "    <tr>\n",
       "      <th>16</th>\n",
       "      <td>MUVGtYHdeMdauAxzEJvt</td>\n",
       "      <td>Vanessa</td>\n",
       "      <td>Green</td>\n",
       "      <td>TV</td>\n",
       "      <td>3</td>\n",
       "      <td>1</td>\n",
       "      <td>9.0</td>\n",
       "    </tr>\n",
       "    <tr>\n",
       "      <th>6</th>\n",
       "      <td>WVcMKILUHtBkEahrPLrG</td>\n",
       "      <td>Blake</td>\n",
       "      <td>Martin</td>\n",
       "      <td>SZ</td>\n",
       "      <td>2</td>\n",
       "      <td>1</td>\n",
       "      <td>13.5</td>\n",
       "    </tr>\n",
       "    <tr>\n",
       "      <th>3</th>\n",
       "      <td>TzqyQTQjZGeLZuJqlLaQ</td>\n",
       "      <td>Allison</td>\n",
       "      <td>Davis</td>\n",
       "      <td>BT</td>\n",
       "      <td>2</td>\n",
       "      <td>1</td>\n",
       "      <td>13.5</td>\n",
       "    </tr>\n",
       "    <tr>\n",
       "      <th>15</th>\n",
       "      <td>jDmYPxeqAWfCKCQCYFEx</td>\n",
       "      <td>Caitlyn</td>\n",
       "      <td>Cruz</td>\n",
       "      <td>NZ</td>\n",
       "      <td>2</td>\n",
       "      <td>2</td>\n",
       "      <td>13.5</td>\n",
       "    </tr>\n",
       "    <tr>\n",
       "      <th>11</th>\n",
       "      <td>puCpymcjBdurvfVyRYry</td>\n",
       "      <td>Holly</td>\n",
       "      <td>Simmons</td>\n",
       "      <td>GT</td>\n",
       "      <td>2</td>\n",
       "      <td>1</td>\n",
       "      <td>13.5</td>\n",
       "    </tr>\n",
       "    <tr>\n",
       "      <th>13</th>\n",
       "      <td>goRcbvzSLJhZvFucyhbG</td>\n",
       "      <td>Crystal</td>\n",
       "      <td>Garcia</td>\n",
       "      <td>NG</td>\n",
       "      <td>2</td>\n",
       "      <td>1</td>\n",
       "      <td>13.5</td>\n",
       "    </tr>\n",
       "    <tr>\n",
       "      <th>1</th>\n",
       "      <td>deTclcaRrihIYAUADJPN</td>\n",
       "      <td>Vicki</td>\n",
       "      <td>Burgess</td>\n",
       "      <td>KZ</td>\n",
       "      <td>2</td>\n",
       "      <td>1</td>\n",
       "      <td>13.5</td>\n",
       "    </tr>\n",
       "    <tr>\n",
       "      <th>2</th>\n",
       "      <td>vHakrmHtTDvuKvIcxniB</td>\n",
       "      <td>Tony</td>\n",
       "      <td>Hoffman</td>\n",
       "      <td>TN</td>\n",
       "      <td>1</td>\n",
       "      <td>1</td>\n",
       "      <td>17.0</td>\n",
       "    </tr>\n",
       "  </tbody>\n",
       "</table>\n",
       "</div>"
      ],
      "text/plain": [
       "                traderId  firstName   lastName countryCode  traderFreq  \\\n",
       "4   sjAcfZksMRViIYdJRrnF      Scott   Thompson          MK           5   \n",
       "0   pjjFIyeNTWRUWCuKoQSU   Brittany    Herring          NZ           4   \n",
       "14  RNvnAvOpyEVAoNGnVZQU       Kyle      Blair          GD           4   \n",
       "12  xIZVPeFzGRmMglPrQfhK    Brandon      Berry          LA           4   \n",
       "7   JyfwFVYySnPCaLuQIazT       John     Nguyen          KM           4   \n",
       "8   BJbHFDutYbbXjgkPWbwf     Jordan     Walker          RU           4   \n",
       "5   wsdSKUxJgukcXlhktChZ      Tonya  Hernandez          KP           4   \n",
       "9   HToYfSueoxPSgBHsToac       Erin      Grant          LC           3   \n",
       "10  vDAqsRnDaMrcomXsosXG  Christine    Baldwin          JP           3   \n",
       "16  MUVGtYHdeMdauAxzEJvt    Vanessa      Green          TV           3   \n",
       "6   WVcMKILUHtBkEahrPLrG      Blake     Martin          SZ           2   \n",
       "3   TzqyQTQjZGeLZuJqlLaQ    Allison      Davis          BT           2   \n",
       "15  jDmYPxeqAWfCKCQCYFEx    Caitlyn       Cruz          NZ           2   \n",
       "11  puCpymcjBdurvfVyRYry      Holly    Simmons          GT           2   \n",
       "13  goRcbvzSLJhZvFucyhbG    Crystal     Garcia          NG           2   \n",
       "1   deTclcaRrihIYAUADJPN      Vicki    Burgess          KZ           2   \n",
       "2   vHakrmHtTDvuKvIcxniB       Tony    Hoffman          TN           1   \n",
       "\n",
       "    countryFreq  traderRank  \n",
       "4             1         1.0  \n",
       "0             2         4.5  \n",
       "14            1         4.5  \n",
       "12            1         4.5  \n",
       "7             1         4.5  \n",
       "8             1         4.5  \n",
       "5             1         4.5  \n",
       "9             1         9.0  \n",
       "10            1         9.0  \n",
       "16            1         9.0  \n",
       "6             1        13.5  \n",
       "3             1        13.5  \n",
       "15            2        13.5  \n",
       "11            1        13.5  \n",
       "13            1        13.5  \n",
       "1             1        13.5  \n",
       "2             1        17.0  "
      ]
     },
     "execution_count": 67,
     "metadata": {},
     "output_type": "execute_result"
    }
   ],
   "source": [
    "# Trader rank by number of suspicious orders\n",
    "freq_fraud_data['traderRank'] = freq_fraud_data['traderFreq'].rank(ascending=False)\n",
    "freq_fraud_data.sort_values(by='traderRank')"
   ]
  },
  {
   "cell_type": "markdown",
   "metadata": {},
   "source": [
    "* Trader Scott Thompson of country MK is on the top position in the list of top fraud traders with 5 fraud trading.\n",
    "* Other rank position have more than one trader."
   ]
  },
  {
   "cell_type": "markdown",
   "metadata": {},
   "source": [
    "## Correlation of nationality with fraud traders"
   ]
  },
  {
   "cell_type": "code",
   "execution_count": 68,
   "metadata": {},
   "outputs": [
    {
     "data": {
      "text/html": [
       "<div>\n",
       "<style scoped>\n",
       "    .dataframe tbody tr th:only-of-type {\n",
       "        vertical-align: middle;\n",
       "    }\n",
       "\n",
       "    .dataframe tbody tr th {\n",
       "        vertical-align: top;\n",
       "    }\n",
       "\n",
       "    .dataframe thead th {\n",
       "        text-align: right;\n",
       "    }\n",
       "</style>\n",
       "<table border=\"1\" class=\"dataframe\">\n",
       "  <thead>\n",
       "    <tr style=\"text-align: right;\">\n",
       "      <th></th>\n",
       "      <th>traderFreq</th>\n",
       "      <th>countryFreq</th>\n",
       "    </tr>\n",
       "  </thead>\n",
       "  <tbody>\n",
       "    <tr>\n",
       "      <th>traderFreq</th>\n",
       "      <td>1.0</td>\n",
       "      <td>0.0</td>\n",
       "    </tr>\n",
       "    <tr>\n",
       "      <th>countryFreq</th>\n",
       "      <td>0.0</td>\n",
       "      <td>1.0</td>\n",
       "    </tr>\n",
       "  </tbody>\n",
       "</table>\n",
       "</div>"
      ],
      "text/plain": [
       "             traderFreq  countryFreq\n",
       "traderFreq          1.0          0.0\n",
       "countryFreq         0.0          1.0"
      ]
     },
     "execution_count": 68,
     "metadata": {},
     "output_type": "execute_result"
    }
   ],
   "source": [
    "freq_fraud_data[['traderFreq','countryFreq']].corr()"
   ]
  },
  {
   "cell_type": "code",
   "execution_count": 69,
   "metadata": {},
   "outputs": [
    {
     "data": {
      "image/png": "[encoded data removed]",
      "text/plain": [
       "<Figure size 432x288 with 2 Axes>"
      ]
     },
     "metadata": {},
     "output_type": "display_data"
    }
   ],
   "source": [
    "# Lets find correlation between the nationality of the trader and the tendency to make suspicious orders \n",
    "plt.title('Pearson Correlation Matrix between Trader Frequency & their Country')\n",
    "sns.heatmap(freq_fraud_data[['traderFreq','countryFreq']].corr(),linewidths=0.25,vmax=0.7,square=True,\n",
    "            cmap=\"winter\", linecolor='w',annot=True) \n",
    "plt.show()"
   ]
  },
  {
   "cell_type": "markdown",
   "metadata": {},
   "source": [
    "#### There is no relation between frequency of making suspicious order of a particular trader to his country."
   ]
  },
  {
   "cell_type": "code",
   "execution_count": 70,
   "metadata": {},
   "outputs": [
    {
     "data": {
      "image/png": "[encoded data removed]",
      "text/plain": [
       "<Figure size 432x288 with 1 Axes>"
      ]
     },
     "metadata": {},
     "output_type": "display_data"
    }
   ],
   "source": [
    "sns.scatterplot(x='traderFreq', y='countryFreq', data=freq_fraud_data)\n",
    "plt.show()"
   ]
  }
 ],
 "metadata": {
  "kernelspec": {
   "display_name": "Python 3",
   "language": "python",
   "name": "python3"
  },
  "language_info": {
   "codemirror_mode": {
    "name": "ipython",
    "version": 3
   },
   "file_extension": ".py",
   "mimetype": "text/x-python",
   "name": "python",
   "nbconvert_exporter": "python",
   "pygments_lexer": "ipython3",
   "version": "3.8.3"
  }
 },
 "nbformat": 4,
 "nbformat_minor": 2
}
